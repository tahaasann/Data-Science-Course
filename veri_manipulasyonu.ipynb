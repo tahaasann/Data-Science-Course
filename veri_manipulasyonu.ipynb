{
 "cells": [
  {
   "cell_type": "code",
   "execution_count": 1,
   "id": "300982a2-06ac-4c95-9df0-2d2d22141481",
   "metadata": {},
   "outputs": [
    {
     "name": "stdout",
     "output_type": "stream",
     "text": [
      "a\n"
     ]
    }
   ],
   "source": [
    "print(\"a\")"
   ]
  },
  {
   "cell_type": "markdown",
   "id": "2b4bfaac-36b0-45d2-acc2-1b1c143b91b5",
   "metadata": {},
   "source": [
    "Merhaba\n",
    "\n",
    "herhangi başka şeyler de yazılabilir\n",
    "\n",
    "_italik_\n",
    "**kalin**"
   ]
  },
  {
   "cell_type": "code",
   "execution_count": 2,
   "id": "5a38aa0a-f711-459b-973f-22daa5e563d8",
   "metadata": {},
   "outputs": [
    {
     "data": {
      "text/plain": [
       "'a'"
      ]
     },
     "execution_count": 2,
     "metadata": {},
     "output_type": "execute_result"
    }
   ],
   "source": [
    "\"a\""
   ]
  },
  {
   "cell_type": "markdown",
   "id": "dc956796-90b0-44f1-9348-befac12c02cd",
   "metadata": {},
   "source": [
    "---"
   ]
  },
  {
   "cell_type": "markdown",
   "id": "008dcb18-27ec-4065-928d-0deea946bd48",
   "metadata": {},
   "source": [
    "# Numpy Giriş"
   ]
  },
  {
   "cell_type": "markdown",
   "id": "f41568c3-0c45-4a0b-bd2e-75dd3405e3c7",
   "metadata": {},
   "source": [
    "- Numerical Python\n",
    "- Bilimsel hesaplamalar için kullanılır.\n",
    "- Arrayler / çok boyutlu arrayler ve matrisler üzerinde yüksek performanslı çalışma imkanı sağlar.\n",
    "- Listelere benzerdir, farkı; verimli veri saklama ve vektörel operasyonlardır. Listelerdeki tutulan tüm öğeler için ayrı ayrı tip bilgisi ve ek bilgiler tutulur, numpy'da ise kullanılacak veri tipleri arasında bir ayrım yoktur, numpy hepsini fixed type(sabitlenmiş tipe) zorlar(hepsinin tipi aynı olacak yani)  bu sayede tek bir tip bilgisi tutar, bu şekilde numpy daha az maliyetlidir. Bu sayede veri saklama anlamında çok ciddi performans sağlar.\n",
    "![numpy array yapısı](img/numpy-001.png)"
   ]
  },
  {
   "cell_type": "markdown",
   "id": "9f8aac95-6351-44ea-950c-1736bcc3919e",
   "metadata": {},
   "source": [
    "## Neden NumPy?\n",
    "- NumPy'ı daha üst seviyeden, daha az çabayla, daha büyük işler yapabilme olanağı sağladığından dolayı kullanıyor olacağız.\n",
    "- Yer tutma maliyetlerini NumPy çok azaltmaktadır."
   ]
  },
  {
   "cell_type": "code",
   "execution_count": 8,
   "id": "6de788f7-194c-4d1f-b310-f5dbf8498742",
   "metadata": {},
   "outputs": [
    {
     "data": {
      "text/plain": [
       "[2, 3, 4, 5]"
      ]
     },
     "execution_count": 8,
     "metadata": {},
     "output_type": "execute_result"
    }
   ],
   "source": [
    "a = [1,2,3,4]\n",
    "b = [2,3,4,5]\n",
    "a\n",
    "b # sadece en son ne yazdıysak onu yazdırır"
   ]
  },
  {
   "cell_type": "code",
   "execution_count": 9,
   "id": "e73818de-0387-4ead-903b-847f4f0b731b",
   "metadata": {},
   "outputs": [
    {
     "data": {
      "text/plain": [
       "[1, 2, 3, 4]"
      ]
     },
     "execution_count": 9,
     "metadata": {},
     "output_type": "execute_result"
    }
   ],
   "source": [
    "a"
   ]
  },
  {
   "cell_type": "code",
   "execution_count": 1,
   "id": "1d418ef0-af72-4069-8d4b-aa783327772e",
   "metadata": {},
   "outputs": [],
   "source": [
    "import numpy as np"
   ]
  },
  {
   "cell_type": "code",
   "execution_count": 2,
   "id": "1df24059-2e69-4bd4-ae7a-94c2d6544fc7",
   "metadata": {},
   "outputs": [],
   "source": [
    "a = np.array([1,2,3,4]) # numpy array veri tipinde\n",
    "b = np.array([2,3,4,5])"
   ]
  },
  {
   "cell_type": "code",
   "execution_count": 12,
   "id": "2e80f62a-0fb8-4487-bfbb-f865554e3245",
   "metadata": {},
   "outputs": [
    {
     "data": {
      "text/plain": [
       "array([ 2,  6, 12, 20])"
      ]
     },
     "execution_count": 12,
     "metadata": {},
     "output_type": "execute_result"
    }
   ],
   "source": [
    "a * b"
   ]
  },
  {
   "cell_type": "markdown",
   "id": "c0ae833e-3913-41cb-a439-7a82b28a7944",
   "metadata": {},
   "source": [
    "## Numpy Array Oluşturmak\n",
    "- Sıfırdan veya listeler üzerinde NumPy Array oluşturulabilir."
   ]
  },
  {
   "cell_type": "markdown",
   "id": "347d0d43-35c5-428c-b3f4-3bd78263cf2f",
   "metadata": {},
   "source": [
    "Numpy array, numpy kütüphanesi içerisinde yer alan veri tipidir (listeler, tuple ve sözlükler gibi). "
   ]
  },
  {
   "cell_type": "code",
   "execution_count": 15,
   "id": "262ae52f-bdf3-4668-b4dd-2b5c5468feb5",
   "metadata": {},
   "outputs": [],
   "source": [
    "import numpy as np"
   ]
  },
  {
   "cell_type": "code",
   "execution_count": 4,
   "id": "73694269-a706-4c94-8afc-abce12ce3b50",
   "metadata": {},
   "outputs": [
    {
     "data": {
      "text/plain": [
       "array([1, 2, 3, 4, 5])"
      ]
     },
     "execution_count": 4,
     "metadata": {},
     "output_type": "execute_result"
    }
   ],
   "source": [
    "np.array([1,2,3,4,5])"
   ]
  },
  {
   "cell_type": "code",
   "execution_count": 5,
   "id": "7681934b-d808-4a22-ac32-c526e26f6ff0",
   "metadata": {},
   "outputs": [],
   "source": [
    "a = np.array([1,2,3,4,5])"
   ]
  },
  {
   "cell_type": "code",
   "execution_count": 6,
   "id": "a53e0b70-ed38-4874-9404-405f1731a6a7",
   "metadata": {},
   "outputs": [
    {
     "data": {
      "text/plain": [
       "numpy.ndarray"
      ]
     },
     "execution_count": 6,
     "metadata": {},
     "output_type": "execute_result"
    }
   ],
   "source": [
    "type(a)"
   ]
  },
  {
   "cell_type": "code",
   "execution_count": 16,
   "id": "88d9e5f3-0f07-4a3e-9335-82deb134acac",
   "metadata": {},
   "outputs": [
    {
     "data": {
      "text/plain": [
       "array([ 3.14,  4.  ,  2.  , 13.  ])"
      ]
     },
     "execution_count": 16,
     "metadata": {},
     "output_type": "execute_result"
    }
   ],
   "source": [
    "np.array([3.14, 4, 2, 13]) #sabit tip baskısı - NumPy array tek tip veri tutar. \n",
    "                           #Böylece bir tane veri tutar ve veri tutma maliyeti düşürülür"
   ]
  },
  {
   "cell_type": "code",
   "execution_count": 19,
   "id": "8c4b8dff-23e9-448b-b194-72c9885697ab",
   "metadata": {},
   "outputs": [
    {
     "data": {
      "text/plain": [
       "array([ 3,  4,  2, 13])"
      ]
     },
     "execution_count": 19,
     "metadata": {},
     "output_type": "execute_result"
    }
   ],
   "source": [
    "np.array([3.14, 4, 2, 13], dtype = \"int\")"
   ]
  },
  {
   "cell_type": "markdown",
   "id": "7ecd5c21-9d88-4c34-b984-7cfc648c2f66",
   "metadata": {},
   "source": [
    "## Sıfırdan array oluşturma"
   ]
  },
  {
   "cell_type": "code",
   "execution_count": 17,
   "id": "8c740335-47a8-4286-b4b3-f134e1b85fde",
   "metadata": {},
   "outputs": [
    {
     "data": {
      "text/plain": [
       "array([0, 0, 0, 0, 0, 0, 0, 0, 0, 0])"
      ]
     },
     "execution_count": 17,
     "metadata": {},
     "output_type": "execute_result"
    }
   ],
   "source": [
    "np.zeros(10, dtype = int) # 0 lardan oluşan int tipinde nd array oluştur."
   ]
  },
  {
   "cell_type": "code",
   "execution_count": 18,
   "id": "1cc3fbf5-293c-49d4-a93d-b63a13903e14",
   "metadata": {},
   "outputs": [
    {
     "data": {
      "text/plain": [
       "array([[1, 1, 1, 1, 1],\n",
       "       [1, 1, 1, 1, 1],\n",
       "       [1, 1, 1, 1, 1]])"
      ]
     },
     "execution_count": 18,
     "metadata": {},
     "output_type": "execute_result"
    }
   ],
   "source": [
    "np.ones((3,5), dtype= int)  # iki boyutlu 1lerden oluşan nd array oluştur."
   ]
  },
  {
   "cell_type": "code",
   "execution_count": 19,
   "id": "936fb827-003b-4a6d-8c96-0e66edce5a8e",
   "metadata": {},
   "outputs": [
    {
     "data": {
      "text/plain": [
       "array([[3, 3, 3, 3, 3],\n",
       "       [3, 3, 3, 3, 3],\n",
       "       [3, 3, 3, 3, 3]])"
      ]
     },
     "execution_count": 19,
     "metadata": {},
     "output_type": "execute_result"
    }
   ],
   "source": [
    "np.full((3,5), 3) # Sadece 3lerden oluşan ve bizim verdiğimiz boyut bilgisiyle oluşan array"
   ]
  },
  {
   "cell_type": "code",
   "execution_count": 28,
   "id": "2aadac3f-91a0-4493-bc21-91a602cca5e3",
   "metadata": {},
   "outputs": [
    {
     "data": {
      "text/plain": [
       "array([ 0,  3,  6,  9, 12, 15, 18, 21, 24, 27, 30])"
      ]
     },
     "execution_count": 28,
     "metadata": {},
     "output_type": "execute_result"
    }
   ],
   "source": [
    "np.arange(0,31,3) # 0'dan 31'e kadar 3er 3er artacak bir dizi oluşturmak \n",
    "                  # arange fonksiyonunu çok sık kullanacağız."
   ]
  },
  {
   "cell_type": "code",
   "execution_count": 29,
   "id": "1c21230d-0bf1-46d6-bd39-ad64549186b0",
   "metadata": {},
   "outputs": [
    {
     "data": {
      "text/plain": [
       "array([0.        , 0.11111111, 0.22222222, 0.33333333, 0.44444444,\n",
       "       0.55555556, 0.66666667, 0.77777778, 0.88888889, 1.        ])"
      ]
     },
     "execution_count": 29,
     "metadata": {},
     "output_type": "execute_result"
    }
   ],
   "source": [
    "np.linspace(0, 1, 10) # O ile 1 arasında 10 tane değer oluştur"
   ]
  },
  {
   "cell_type": "code",
   "execution_count": 30,
   "id": "c2f185af-eae4-4f61-9cb9-7458a8631a2f",
   "metadata": {},
   "outputs": [
    {
     "data": {
      "text/plain": [
       "array([[ 7.25146931,  6.8703473 ,  3.94723798,  4.42124934],\n",
       "       [18.91699769, 12.77242545, 12.43752782, 20.54370614],\n",
       "       [15.51037639, 12.84345899,  9.57200393, 15.94204809]])"
      ]
     },
     "execution_count": 30,
     "metadata": {},
     "output_type": "execute_result"
    }
   ],
   "source": [
    "np.random.normal(10, 4, (3,4)) # Ortalaması 10, Standart sapması 4 olan 2 boyutlu (3e4) random array oluştur.\n",
    "                               # random.normal fonksiyonunu çok sık kullanacağız."
   ]
  },
  {
   "cell_type": "markdown",
   "id": "8f906197-3a2a-42f9-9dec-10bdccd68f89",
   "metadata": {},
   "source": [
    "- Tek boyutlu array'ın karşılığı **Vektör** dür.\n",
    "- İki boyutlu array'ın karşılığı **Matris** dir."
   ]
  },
  {
   "cell_type": "code",
   "execution_count": 31,
   "id": "af00e164-e7f5-49ab-bcad-c16dc799ba63",
   "metadata": {},
   "outputs": [
    {
     "data": {
      "text/plain": [
       "array([[7, 1, 5],\n",
       "       [1, 0, 1],\n",
       "       [8, 1, 3]])"
      ]
     },
     "execution_count": 31,
     "metadata": {},
     "output_type": "execute_result"
    }
   ],
   "source": [
    "np.random.randint(0, 10, (3,3)) # Dağılımla ilgilenmiyorum, integer değerlerden rastgele oluşmuş bir array\n",
    "                                # O'dan 10'a kadar 3e3lük bir random matris oluştur.\n",
    "                                # random.randint fonksiyonunu çok sık kullanacağız."
   ]
  },
  {
   "cell_type": "markdown",
   "id": "8f4f1038-140b-4961-82f3-7faad0161c3a",
   "metadata": {},
   "source": [
    "## NumPy Array Özellikleri"
   ]
  },
  {
   "cell_type": "markdown",
   "id": "0b0b68b9-97ca-4686-ad5a-e01c0f05be73",
   "metadata": {},
   "source": [
    "* ndim: boyut sayısı\n",
    "* shape: boyut bilgisi\n",
    "* size: toplam eleman sayısı\n",
    "* dtype: array veri tipi"
   ]
  },
  {
   "cell_type": "code",
   "execution_count": 127,
   "id": "151bcbdf-ff47-447b-a3d7-99d8a017715e",
   "metadata": {},
   "outputs": [],
   "source": [
    "import numpy as np"
   ]
  },
  {
   "cell_type": "code",
   "execution_count": 128,
   "id": "be877b80-25e9-4f00-83b9-7b0fa7715e8d",
   "metadata": {},
   "outputs": [
    {
     "data": {
      "text/plain": [
       "array([6, 5, 4, 7, 3, 9, 9, 7, 5, 9])"
      ]
     },
     "execution_count": 128,
     "metadata": {},
     "output_type": "execute_result"
    }
   ],
   "source": [
    "np.random.randint(10, size = 10)"
   ]
  },
  {
   "cell_type": "code",
   "execution_count": 129,
   "id": "e6c063ab-b3f3-4f73-87b6-42c02ae5cf6f",
   "metadata": {},
   "outputs": [],
   "source": [
    "a = np.random.randint(10, size = 10)"
   ]
  },
  {
   "cell_type": "code",
   "execution_count": 130,
   "id": "cddcce24-6c21-4bde-b38a-538a5aa1f74f",
   "metadata": {},
   "outputs": [
    {
     "data": {
      "text/plain": [
       "array([1, 2, 9, 1, 4, 8, 5, 9, 9, 0])"
      ]
     },
     "execution_count": 130,
     "metadata": {},
     "output_type": "execute_result"
    }
   ],
   "source": [
    "a"
   ]
  },
  {
   "cell_type": "code",
   "execution_count": 131,
   "id": "8bcdaec8-83ee-43b5-983f-3e14cf6e8622",
   "metadata": {},
   "outputs": [
    {
     "data": {
      "text/plain": [
       "1"
      ]
     },
     "execution_count": 131,
     "metadata": {},
     "output_type": "execute_result"
    }
   ],
   "source": [
    "a.ndim"
   ]
  },
  {
   "cell_type": "code",
   "execution_count": 132,
   "id": "09ed58d1-0b9b-44ec-be19-af47fa45008c",
   "metadata": {},
   "outputs": [
    {
     "data": {
      "text/plain": [
       "(10,)"
      ]
     },
     "execution_count": 132,
     "metadata": {},
     "output_type": "execute_result"
    }
   ],
   "source": [
    "a.shape"
   ]
  },
  {
   "cell_type": "code",
   "execution_count": 133,
   "id": "9347add4-c97f-42f6-a054-cba849a5ce85",
   "metadata": {},
   "outputs": [
    {
     "data": {
      "text/plain": [
       "10"
      ]
     },
     "execution_count": 133,
     "metadata": {},
     "output_type": "execute_result"
    }
   ],
   "source": [
    "a.size"
   ]
  },
  {
   "cell_type": "code",
   "execution_count": 134,
   "id": "0e147911-48dd-4d3b-b5ad-0fda851d4816",
   "metadata": {},
   "outputs": [
    {
     "data": {
      "text/plain": [
       "dtype('int32')"
      ]
     },
     "execution_count": 134,
     "metadata": {},
     "output_type": "execute_result"
    }
   ],
   "source": [
    "a.dtype"
   ]
  },
  {
   "cell_type": "code",
   "execution_count": 48,
   "id": "7557a6d0-baee-4df6-b542-ac790ef88d32",
   "metadata": {},
   "outputs": [],
   "source": [
    "b = np.random.randint(10, size = (3,5))"
   ]
  },
  {
   "cell_type": "code",
   "execution_count": 49,
   "id": "3d6f5f2b-2c18-431a-b264-62638adff242",
   "metadata": {},
   "outputs": [
    {
     "data": {
      "text/plain": [
       "array([[7, 6, 4, 1, 8],\n",
       "       [4, 3, 4, 8, 5],\n",
       "       [5, 4, 3, 6, 8]])"
      ]
     },
     "execution_count": 49,
     "metadata": {},
     "output_type": "execute_result"
    }
   ],
   "source": [
    "b"
   ]
  },
  {
   "cell_type": "code",
   "execution_count": 50,
   "id": "2389e4e6-5c7d-4fff-b7fa-7db654801c44",
   "metadata": {},
   "outputs": [
    {
     "data": {
      "text/plain": [
       "2"
      ]
     },
     "execution_count": 50,
     "metadata": {},
     "output_type": "execute_result"
    }
   ],
   "source": [
    "b.ndim"
   ]
  },
  {
   "cell_type": "code",
   "execution_count": 51,
   "id": "7a0c4832-4c10-46f0-b0a7-d0eee8421cbe",
   "metadata": {},
   "outputs": [
    {
     "data": {
      "text/plain": [
       "(3, 5)"
      ]
     },
     "execution_count": 51,
     "metadata": {},
     "output_type": "execute_result"
    }
   ],
   "source": [
    "b.shape"
   ]
  },
  {
   "cell_type": "code",
   "execution_count": 52,
   "id": "ae091eaf-521c-44ba-80ea-a127000b1bf9",
   "metadata": {},
   "outputs": [
    {
     "data": {
      "text/plain": [
       "15"
      ]
     },
     "execution_count": 52,
     "metadata": {},
     "output_type": "execute_result"
    }
   ],
   "source": [
    "b.size"
   ]
  },
  {
   "cell_type": "code",
   "execution_count": 53,
   "id": "5e09e248-d76f-442d-acdb-ccf31e0aabc4",
   "metadata": {},
   "outputs": [
    {
     "data": {
      "text/plain": [
       "dtype('int32')"
      ]
     },
     "execution_count": 53,
     "metadata": {},
     "output_type": "execute_result"
    }
   ],
   "source": [
    "b.dtype"
   ]
  },
  {
   "cell_type": "markdown",
   "id": "ba771a60-66eb-4757-9a39-bfff8680dbfc",
   "metadata": {},
   "source": [
    "## Yeniden Şekillendirme(reshaping)"
   ]
  },
  {
   "cell_type": "code",
   "execution_count": 54,
   "id": "a8e03cc5-1a98-4853-87da-1624f1acfed8",
   "metadata": {},
   "outputs": [],
   "source": [
    "import numpy as np"
   ]
  },
  {
   "cell_type": "code",
   "execution_count": 55,
   "id": "b6444612-d204-4062-b2cb-36a7b8129652",
   "metadata": {},
   "outputs": [
    {
     "data": {
      "text/plain": [
       "array([1, 2, 3, 4, 5, 6, 7, 8, 9])"
      ]
     },
     "execution_count": 55,
     "metadata": {},
     "output_type": "execute_result"
    }
   ],
   "source": [
    "np.arange(1,10)"
   ]
  },
  {
   "cell_type": "markdown",
   "id": "8c1e6482-206f-460c-a166-5d71d22bd3a9",
   "metadata": {},
   "source": [
    "Bu array üzerinden 3e3lük array oluşturalım: "
   ]
  },
  {
   "cell_type": "markdown",
   "id": "755b6935-648a-4be6-b09e-a1dcffb8083e",
   "metadata": {},
   "source": [
    "Bazen çalışmalarda fonksiyonların veya döngülerin üretmiş olduğu çıktılar tek bir boyutta(tek bir array formunda) gerçekleşebiliyor. Bunları bazen tek boyuttan iki boyuta, bazen de iki boyuttan tek boyuta indirilme ihtiyacları ortaya çıkabiliyor. Bu sebeple bu yapısal dönüşümleri iyi kavramak gerekir. Buna benzer ihtiyaçlarla **reshape** fonksiyonuyla başa çıkabiliyoruz"
   ]
  },
  {
   "cell_type": "code",
   "execution_count": 57,
   "id": "548820d1-ece4-4fa0-8a94-6ee16aca08a9",
   "metadata": {},
   "outputs": [
    {
     "data": {
      "text/plain": [
       "array([[1, 2, 3],\n",
       "       [4, 5, 6],\n",
       "       [7, 8, 9]])"
      ]
     },
     "execution_count": 57,
     "metadata": {},
     "output_type": "execute_result"
    }
   ],
   "source": [
    "np.arange(1,10).reshape((3,3))"
   ]
  },
  {
   "cell_type": "code",
   "execution_count": 58,
   "id": "20fcb24c-0002-47bd-90a6-edf1d86c343d",
   "metadata": {},
   "outputs": [],
   "source": [
    "a = np.arange(1,10)"
   ]
  },
  {
   "cell_type": "code",
   "execution_count": 59,
   "id": "c4ca93be-7bcf-44f4-9640-eea943520f18",
   "metadata": {},
   "outputs": [
    {
     "data": {
      "text/plain": [
       "array([1, 2, 3, 4, 5, 6, 7, 8, 9])"
      ]
     },
     "execution_count": 59,
     "metadata": {},
     "output_type": "execute_result"
    }
   ],
   "source": [
    "a"
   ]
  },
  {
   "cell_type": "code",
   "execution_count": 60,
   "id": "ebd4a362-cf0c-4e1f-8ddc-f35898ce57e3",
   "metadata": {},
   "outputs": [
    {
     "data": {
      "text/plain": [
       "1"
      ]
     },
     "execution_count": 60,
     "metadata": {},
     "output_type": "execute_result"
    }
   ],
   "source": [
    "a.ndim"
   ]
  },
  {
   "cell_type": "code",
   "execution_count": 62,
   "id": "5bdc2755-289d-43fb-a111-7402fd506739",
   "metadata": {},
   "outputs": [],
   "source": [
    "b = a.reshape((1,9)) # tek satır 9 sütun | artık bir matristir, array değil."
   ]
  },
  {
   "cell_type": "code",
   "execution_count": 63,
   "id": "03928e60-74a9-4c94-af36-c51a1cdcf4c3",
   "metadata": {},
   "outputs": [
    {
     "data": {
      "text/plain": [
       "2"
      ]
     },
     "execution_count": 63,
     "metadata": {},
     "output_type": "execute_result"
    }
   ],
   "source": [
    "b.ndim"
   ]
  },
  {
   "cell_type": "markdown",
   "id": "9a5c8113-712a-4c9c-8338-3e06f052a390",
   "metadata": {},
   "source": [
    "## Array Birleştirme (Concatenation)"
   ]
  },
  {
   "cell_type": "code",
   "execution_count": 64,
   "id": "590108d4-0381-4902-b1b0-df7b0ddc77cf",
   "metadata": {},
   "outputs": [],
   "source": [
    "import numpy as np"
   ]
  },
  {
   "cell_type": "code",
   "execution_count": 65,
   "id": "e75f62d5-32af-41b8-a273-6978f56a18fb",
   "metadata": {},
   "outputs": [],
   "source": [
    "x = np.array([1,2,3])\n",
    "y = np.array([4,5,6])"
   ]
  },
  {
   "cell_type": "code",
   "execution_count": 70,
   "id": "15e56efc-2d08-480c-bc2c-447e4b0ec5c9",
   "metadata": {},
   "outputs": [],
   "source": [
    "# Tek boyut"
   ]
  },
  {
   "cell_type": "code",
   "execution_count": 67,
   "id": "e4226f1c-3d2a-4843-8aab-02bcab1b30e5",
   "metadata": {},
   "outputs": [
    {
     "data": {
      "text/plain": [
       "array([1, 2, 3, 4, 5, 6])"
      ]
     },
     "execution_count": 67,
     "metadata": {},
     "output_type": "execute_result"
    }
   ],
   "source": [
    "np.concatenate([x,y])"
   ]
  },
  {
   "cell_type": "code",
   "execution_count": 68,
   "id": "2592584d-b581-40fd-88e1-28597db6338f",
   "metadata": {},
   "outputs": [],
   "source": [
    "z = np.array([7,8,9])"
   ]
  },
  {
   "cell_type": "code",
   "execution_count": 69,
   "id": "7b7a45bf-1667-4ee1-924b-4482d5f08f0c",
   "metadata": {},
   "outputs": [
    {
     "data": {
      "text/plain": [
       "array([1, 2, 3, 4, 5, 6, 7, 8, 9])"
      ]
     },
     "execution_count": 69,
     "metadata": {},
     "output_type": "execute_result"
    }
   ],
   "source": [
    "np.concatenate([x,y,z])"
   ]
  },
  {
   "cell_type": "code",
   "execution_count": 71,
   "id": "e213af28-014e-4c9d-81af-064bb1dff7b9",
   "metadata": {},
   "outputs": [],
   "source": [
    "# İki boyut"
   ]
  },
  {
   "cell_type": "code",
   "execution_count": 72,
   "id": "c0a2d03d-b6cd-4627-beaf-583a10c0d1f2",
   "metadata": {},
   "outputs": [],
   "source": [
    "a = np.array([[1,2,3],\n",
    "              [4,5,6]])"
   ]
  },
  {
   "cell_type": "code",
   "execution_count": 73,
   "id": "a68fa2ce-0c82-4932-a08e-4f3154a3d06a",
   "metadata": {},
   "outputs": [
    {
     "data": {
      "text/plain": [
       "array([[1, 2, 3],\n",
       "       [4, 5, 6],\n",
       "       [1, 2, 3],\n",
       "       [4, 5, 6]])"
      ]
     },
     "execution_count": 73,
     "metadata": {},
     "output_type": "execute_result"
    }
   ],
   "source": [
    "np.concatenate([a,a])"
   ]
  },
  {
   "cell_type": "code",
   "execution_count": 74,
   "id": "6801508d-a5d0-4e18-b1ae-df23235e6e6e",
   "metadata": {},
   "outputs": [
    {
     "data": {
      "text/plain": [
       "array([[1, 2, 3, 1, 2, 3],\n",
       "       [4, 5, 6, 4, 5, 6]])"
      ]
     },
     "execution_count": 74,
     "metadata": {},
     "output_type": "execute_result"
    }
   ],
   "source": [
    "np.concatenate([a,a], axis = 1) # Satır bazında değil sütun bazında"
   ]
  },
  {
   "cell_type": "code",
   "execution_count": 75,
   "id": "f6cf882c-2a7b-47e5-a553-5d6434e66f8e",
   "metadata": {},
   "outputs": [
    {
     "data": {
      "text/plain": [
       "array([[1, 2, 3],\n",
       "       [4, 5, 6],\n",
       "       [1, 2, 3],\n",
       "       [4, 5, 6]])"
      ]
     },
     "execution_count": 75,
     "metadata": {},
     "output_type": "execute_result"
    }
   ],
   "source": [
    "np.concatenate([a,a], axis = 0) # Sütun bazında değil satır bazında birleştirir."
   ]
  },
  {
   "cell_type": "markdown",
   "id": "e8806e85-12cb-43ab-9c48-2da323412631",
   "metadata": {},
   "source": [
    "## Array Ayırma (Splitting)"
   ]
  },
  {
   "cell_type": "code",
   "execution_count": 79,
   "id": "2560fcc9-c4ba-4019-8709-66683cd72024",
   "metadata": {},
   "outputs": [],
   "source": [
    "import numpy as np"
   ]
  },
  {
   "cell_type": "code",
   "execution_count": 81,
   "id": "dc591616-cae2-4138-a389-9ab0181ceaad",
   "metadata": {},
   "outputs": [],
   "source": [
    "x = np.array([1,2,3,99,99,3,2,1])"
   ]
  },
  {
   "cell_type": "code",
   "execution_count": 83,
   "id": "f63fe064-40bc-4f65-a09b-736b2f668404",
   "metadata": {},
   "outputs": [
    {
     "data": {
      "text/plain": [
       "[array([1, 2, 3]), array([99, 99]), array([3, 2, 1])]"
      ]
     },
     "execution_count": 83,
     "metadata": {},
     "output_type": "execute_result"
    }
   ],
   "source": [
    "np.split(x, [3,5]) # 3'e kadar olan(indeks sayısına göre) ve 5'e kadar olan arrayleri ayır"
   ]
  },
  {
   "cell_type": "code",
   "execution_count": 84,
   "id": "fb215b9c-b011-44ab-9a8f-2a79ea0af305",
   "metadata": {},
   "outputs": [],
   "source": [
    "a,b,c = np.split(x, [3,5])"
   ]
  },
  {
   "cell_type": "code",
   "execution_count": 85,
   "id": "585bcbf9-96ac-49b1-9883-54953b4fbc74",
   "metadata": {},
   "outputs": [
    {
     "data": {
      "text/plain": [
       "array([1, 2, 3])"
      ]
     },
     "execution_count": 85,
     "metadata": {},
     "output_type": "execute_result"
    }
   ],
   "source": [
    "a"
   ]
  },
  {
   "cell_type": "code",
   "execution_count": 86,
   "id": "17ef6223-4984-436a-8902-564a49f965ab",
   "metadata": {},
   "outputs": [
    {
     "data": {
      "text/plain": [
       "array([99, 99])"
      ]
     },
     "execution_count": 86,
     "metadata": {},
     "output_type": "execute_result"
    }
   ],
   "source": [
    "b"
   ]
  },
  {
   "cell_type": "code",
   "execution_count": 87,
   "id": "fb59d536-3837-43a2-aee0-fc721c8776d7",
   "metadata": {},
   "outputs": [
    {
     "data": {
      "text/plain": [
       "array([3, 2, 1])"
      ]
     },
     "execution_count": 87,
     "metadata": {},
     "output_type": "execute_result"
    }
   ],
   "source": [
    "c"
   ]
  },
  {
   "cell_type": "markdown",
   "id": "51b7bf5c-70de-486b-b293-16379c2e59d4",
   "metadata": {},
   "source": [
    "### İki boyutlu ayırma"
   ]
  },
  {
   "cell_type": "code",
   "execution_count": 88,
   "id": "5a4ccaab-67ed-4da6-8c96-02c397eb9749",
   "metadata": {},
   "outputs": [],
   "source": [
    "m = np.arange(16).reshape(4,4)"
   ]
  },
  {
   "cell_type": "code",
   "execution_count": 89,
   "id": "2bc6e0b1-af12-4769-bc51-6cb65bd2d205",
   "metadata": {},
   "outputs": [
    {
     "data": {
      "text/plain": [
       "array([[ 0,  1,  2,  3],\n",
       "       [ 4,  5,  6,  7],\n",
       "       [ 8,  9, 10, 11],\n",
       "       [12, 13, 14, 15]])"
      ]
     },
     "execution_count": 89,
     "metadata": {},
     "output_type": "execute_result"
    }
   ],
   "source": [
    "m"
   ]
  },
  {
   "cell_type": "code",
   "execution_count": 90,
   "id": "45ddcce5-f3cb-49b2-acc1-6268eaa837a6",
   "metadata": {},
   "outputs": [
    {
     "data": {
      "text/plain": [
       "[array([[0, 1, 2, 3],\n",
       "        [4, 5, 6, 7]]),\n",
       " array([[ 8,  9, 10, 11],\n",
       "        [12, 13, 14, 15]])]"
      ]
     },
     "execution_count": 90,
     "metadata": {},
     "output_type": "execute_result"
    }
   ],
   "source": [
    "np.vsplit(m, [2])"
   ]
  },
  {
   "cell_type": "code",
   "execution_count": 91,
   "id": "8d20f5c0-d6ea-4aa7-b60d-65beec64ca0f",
   "metadata": {},
   "outputs": [],
   "source": [
    "ust, alt = np.vsplit(m, [2])"
   ]
  },
  {
   "cell_type": "code",
   "execution_count": 92,
   "id": "d5e26e6b-30c0-40f7-9dff-a02c00d0fc05",
   "metadata": {},
   "outputs": [
    {
     "data": {
      "text/plain": [
       "array([[0, 1, 2, 3],\n",
       "       [4, 5, 6, 7]])"
      ]
     },
     "execution_count": 92,
     "metadata": {},
     "output_type": "execute_result"
    }
   ],
   "source": [
    "ust"
   ]
  },
  {
   "cell_type": "code",
   "execution_count": 93,
   "id": "b668835a-1a44-4977-85a2-3bae1d268d70",
   "metadata": {},
   "outputs": [
    {
     "data": {
      "text/plain": [
       "array([[ 8,  9, 10, 11],\n",
       "       [12, 13, 14, 15]])"
      ]
     },
     "execution_count": 93,
     "metadata": {},
     "output_type": "execute_result"
    }
   ],
   "source": [
    "alt"
   ]
  },
  {
   "cell_type": "code",
   "execution_count": 94,
   "id": "9d9b0e1f-2d52-43d0-93ba-3fbfc19b6705",
   "metadata": {},
   "outputs": [
    {
     "data": {
      "text/plain": [
       "array([[ 0,  1,  2,  3],\n",
       "       [ 4,  5,  6,  7],\n",
       "       [ 8,  9, 10, 11],\n",
       "       [12, 13, 14, 15]])"
      ]
     },
     "execution_count": 94,
     "metadata": {},
     "output_type": "execute_result"
    }
   ],
   "source": [
    "m"
   ]
  },
  {
   "cell_type": "code",
   "execution_count": 95,
   "id": "faf67f5f-613e-4244-aa18-19b84d0aa790",
   "metadata": {},
   "outputs": [
    {
     "data": {
      "text/plain": [
       "[array([[ 0,  1],\n",
       "        [ 4,  5],\n",
       "        [ 8,  9],\n",
       "        [12, 13]]),\n",
       " array([[ 2,  3],\n",
       "        [ 6,  7],\n",
       "        [10, 11],\n",
       "        [14, 15]])]"
      ]
     },
     "execution_count": 95,
     "metadata": {},
     "output_type": "execute_result"
    }
   ],
   "source": [
    "np.hsplit(m, [2])"
   ]
  },
  {
   "cell_type": "code",
   "execution_count": 96,
   "id": "def1a911-865b-40f7-8272-932ecf0f87c5",
   "metadata": {},
   "outputs": [],
   "source": [
    "sag, sol = np.hsplit(m,[2])"
   ]
  },
  {
   "cell_type": "code",
   "execution_count": 97,
   "id": "c217937c-f468-43ec-9e59-e7193657ea91",
   "metadata": {},
   "outputs": [
    {
     "data": {
      "text/plain": [
       "array([[ 0,  1],\n",
       "       [ 4,  5],\n",
       "       [ 8,  9],\n",
       "       [12, 13]])"
      ]
     },
     "execution_count": 97,
     "metadata": {},
     "output_type": "execute_result"
    }
   ],
   "source": [
    "sag"
   ]
  },
  {
   "cell_type": "code",
   "execution_count": 98,
   "id": "38950cd7-0b45-4f72-a7b6-8ba6253a9f68",
   "metadata": {},
   "outputs": [
    {
     "data": {
      "text/plain": [
       "array([[ 2,  3],\n",
       "       [ 6,  7],\n",
       "       [10, 11],\n",
       "       [14, 15]])"
      ]
     },
     "execution_count": 98,
     "metadata": {},
     "output_type": "execute_result"
    }
   ],
   "source": [
    "sol"
   ]
  },
  {
   "cell_type": "markdown",
   "id": "105448f8-9d66-4f4b-8012-ae8c38bb744f",
   "metadata": {},
   "source": [
    "## Sıralama (Sorting)"
   ]
  },
  {
   "cell_type": "code",
   "execution_count": 99,
   "id": "669d6ccb-a11e-4a41-a3ef-f18817b7ed14",
   "metadata": {},
   "outputs": [],
   "source": [
    "import numpy as np"
   ]
  },
  {
   "cell_type": "code",
   "execution_count": 100,
   "id": "41c6571b-bded-4c4a-b1ad-149386abb498",
   "metadata": {},
   "outputs": [],
   "source": [
    "v = np.array([2,1,4,3,5])"
   ]
  },
  {
   "cell_type": "code",
   "execution_count": 101,
   "id": "524ff795-5b8d-43e6-b503-2ddb1708e00e",
   "metadata": {},
   "outputs": [
    {
     "data": {
      "text/plain": [
       "array([2, 1, 4, 3, 5])"
      ]
     },
     "execution_count": 101,
     "metadata": {},
     "output_type": "execute_result"
    }
   ],
   "source": [
    "v"
   ]
  },
  {
   "cell_type": "code",
   "execution_count": 102,
   "id": "15aac314-dd97-4857-8e4a-e89a51a45637",
   "metadata": {},
   "outputs": [
    {
     "data": {
      "text/plain": [
       "array([1, 2, 3, 4, 5])"
      ]
     },
     "execution_count": 102,
     "metadata": {},
     "output_type": "execute_result"
    }
   ],
   "source": [
    "np.sort(v)"
   ]
  },
  {
   "cell_type": "code",
   "execution_count": 103,
   "id": "0f6eb49d-6e3b-41f6-98a0-98808abbdf89",
   "metadata": {},
   "outputs": [
    {
     "data": {
      "text/plain": [
       "array([2, 1, 4, 3, 5])"
      ]
     },
     "execution_count": 103,
     "metadata": {},
     "output_type": "execute_result"
    }
   ],
   "source": [
    "v"
   ]
  },
  {
   "cell_type": "code",
   "execution_count": 104,
   "id": "455cb536-9e1e-4c8e-b870-acc1e59d7de1",
   "metadata": {},
   "outputs": [],
   "source": [
    "v.sort()"
   ]
  },
  {
   "cell_type": "code",
   "execution_count": 105,
   "id": "3c618cb6-495c-4ff4-af1f-de19c3c4e3fe",
   "metadata": {},
   "outputs": [
    {
     "data": {
      "text/plain": [
       "array([1, 2, 3, 4, 5])"
      ]
     },
     "execution_count": 105,
     "metadata": {},
     "output_type": "execute_result"
    }
   ],
   "source": [
    "v"
   ]
  },
  {
   "cell_type": "markdown",
   "id": "5be57d1a-e60c-420b-aecb-82fa15d17cde",
   "metadata": {},
   "source": [
    "np.sort(v), sort metodu, numpy'ın içerisinden çağırıldığında veri setinin ortajinal yapısını bozmadı.\n",
    "Eğer biz sıralanmış yöntemini kullanmak istersek **yeniden atama** yöntemiyle kullanabiliriz.\n",
    "\n",
    "v.sort() fonksiyonu v nin yapısını bozmuş oldu. "
   ]
  },
  {
   "cell_type": "code",
   "execution_count": 107,
   "id": "7f932ef4-3fb6-4884-ac2d-4b76670cb023",
   "metadata": {},
   "outputs": [],
   "source": [
    "# iki boyutlu array siralama"
   ]
  },
  {
   "cell_type": "code",
   "execution_count": 110,
   "id": "ae5112ac-12ad-47d4-8606-75b69d9bea91",
   "metadata": {},
   "outputs": [],
   "source": [
    "m = np.random.normal(20,5 , (3,3))"
   ]
  },
  {
   "cell_type": "code",
   "execution_count": 111,
   "id": "890cb612-3c9b-4b91-a061-32fd672b19ae",
   "metadata": {},
   "outputs": [
    {
     "data": {
      "text/plain": [
       "array([[19.10382114, 17.90207181, 15.60421162],\n",
       "       [27.40092578,  7.7515947 , 22.33864445],\n",
       "       [ 5.35316166, 26.57178411, 23.76979085]])"
      ]
     },
     "execution_count": 111,
     "metadata": {},
     "output_type": "execute_result"
    }
   ],
   "source": [
    "m"
   ]
  },
  {
   "cell_type": "code",
   "execution_count": 113,
   "id": "74007c9b-67fe-4784-b6d3-64d578a51492",
   "metadata": {},
   "outputs": [
    {
     "data": {
      "text/plain": [
       "array([[15.60421162, 17.90207181, 19.10382114],\n",
       "       [ 7.7515947 , 22.33864445, 27.40092578],\n",
       "       [ 5.35316166, 23.76979085, 26.57178411]])"
      ]
     },
     "execution_count": 113,
     "metadata": {},
     "output_type": "execute_result"
    }
   ],
   "source": [
    "np.sort(m, axis = 1) # her bir satırı kendi içerisinde küçükten büyüğe sıralamıştır."
   ]
  },
  {
   "cell_type": "code",
   "execution_count": 115,
   "id": "68c5dfb9-859d-4ae6-8dd9-e6be4944d77b",
   "metadata": {},
   "outputs": [
    {
     "data": {
      "text/plain": [
       "array([[ 5.35316166,  7.7515947 , 15.60421162],\n",
       "       [19.10382114, 17.90207181, 22.33864445],\n",
       "       [27.40092578, 26.57178411, 23.76979085]])"
      ]
     },
     "execution_count": 115,
     "metadata": {},
     "output_type": "execute_result"
    }
   ],
   "source": [
    "np.sort(m, axis = 0) # her bir sütunu kendi içerisinde küçükten büyüğe sıralamıştır."
   ]
  },
  {
   "cell_type": "markdown",
   "id": "06758d97-dd09-4d03-a1f9-0eac3befeeb7",
   "metadata": {},
   "source": [
    "Bilgiler:\n",
    "- NumPy array'in boyut bilgisini **shape** metodu verir.\n",
    "- NumPy array'in boyut sayısını **ndim** metodu verir.\n",
    "- NumPy array'in toplam eleman sayısını **size** metodu verir.\n",
    "- NumPy array'in veri tipi bilgisini **dtype** metodu verir."
   ]
  },
  {
   "cell_type": "markdown",
   "id": "479b2a99-c102-47b3-8131-fc2a635e0cac",
   "metadata": {},
   "source": [
    "import numpy as np"
   ]
  },
  {
   "cell_type": "code",
   "execution_count": 118,
   "id": "4e3fc742-27d3-4ce4-b43a-bb2b073fe1ba",
   "metadata": {},
   "outputs": [
    {
     "data": {
      "text/plain": [
       "array([[[4, 0],\n",
       "        [9, 1],\n",
       "        [6, 5]],\n",
       "\n",
       "       [[3, 0],\n",
       "        [2, 5],\n",
       "        [1, 3]],\n",
       "\n",
       "       [[1, 1],\n",
       "        [6, 7],\n",
       "        [4, 0]]])"
      ]
     },
     "execution_count": 118,
     "metadata": {},
     "output_type": "execute_result"
    }
   ],
   "source": [
    "np.random.randint(10, size = (3,3,2))"
   ]
  },
  {
   "cell_type": "markdown",
   "id": "c949d0db-8c29-49aa-b0cc-707dfd8d751e",
   "metadata": {},
   "source": [
    "---"
   ]
  },
  {
   "cell_type": "markdown",
   "id": "3520d170-c13c-4dcf-93bb-288202db8c14",
   "metadata": {},
   "source": [
    "## Index ile Elemana Erişmek"
   ]
  },
  {
   "cell_type": "code",
   "execution_count": 136,
   "id": "2aeaae30-f254-4e27-98e4-85e6f3f803ce",
   "metadata": {},
   "outputs": [
    {
     "data": {
      "text/plain": [
       "array([1, 7, 2, 2, 5, 5, 8, 8, 4, 4])"
      ]
     },
     "execution_count": 136,
     "metadata": {},
     "output_type": "execute_result"
    }
   ],
   "source": [
    "import numpy as np \n",
    "a = np.random.randint(10, size = 10)\n",
    "a"
   ]
  },
  {
   "cell_type": "code",
   "execution_count": 137,
   "id": "fadd76f8-dfca-491a-8746-1a487b17eab5",
   "metadata": {},
   "outputs": [
    {
     "data": {
      "text/plain": [
       "1"
      ]
     },
     "execution_count": 137,
     "metadata": {},
     "output_type": "execute_result"
    }
   ],
   "source": [
    "a[0] # klasik kullanım"
   ]
  },
  {
   "cell_type": "code",
   "execution_count": 138,
   "id": "e26e37c5-48b5-48a5-8786-4cd36ef963d7",
   "metadata": {},
   "outputs": [],
   "source": [
    "a[0] = 100"
   ]
  },
  {
   "cell_type": "code",
   "execution_count": 140,
   "id": "8fa3aade-f264-4d73-9bbe-e8730e661720",
   "metadata": {},
   "outputs": [
    {
     "data": {
      "text/plain": [
       "array([100,   7,   2,   2,   5,   5,   8,   8,   4,   4])"
      ]
     },
     "execution_count": 140,
     "metadata": {},
     "output_type": "execute_result"
    }
   ],
   "source": [
    "a"
   ]
  },
  {
   "cell_type": "code",
   "execution_count": 141,
   "id": "bea09b61-57aa-448d-bd3c-6c01268f485f",
   "metadata": {},
   "outputs": [
    {
     "data": {
      "text/plain": [
       "array([[7, 3, 6, 0, 8],\n",
       "       [3, 3, 4, 7, 4],\n",
       "       [8, 5, 2, 3, 7]])"
      ]
     },
     "execution_count": 141,
     "metadata": {},
     "output_type": "execute_result"
    }
   ],
   "source": [
    "m = np.random.randint(10, size = (3,5))\n",
    "m"
   ]
  },
  {
   "cell_type": "code",
   "execution_count": 142,
   "id": "62985bdf-78c2-416d-a5e6-f12dbc7c50bc",
   "metadata": {},
   "outputs": [
    {
     "data": {
      "text/plain": [
       "7"
      ]
     },
     "execution_count": 142,
     "metadata": {},
     "output_type": "execute_result"
    }
   ],
   "source": [
    "m[0,0]"
   ]
  },
  {
   "cell_type": "code",
   "execution_count": 143,
   "id": "8a187085-a31c-4043-b708-0d51d833eeab",
   "metadata": {},
   "outputs": [
    {
     "data": {
      "text/plain": [
       "3"
      ]
     },
     "execution_count": 143,
     "metadata": {},
     "output_type": "execute_result"
    }
   ],
   "source": [
    "m[1,1]"
   ]
  },
  {
   "cell_type": "code",
   "execution_count": 144,
   "id": "0bee93f3-8bf9-42c6-a9a4-83b005c48e01",
   "metadata": {},
   "outputs": [
    {
     "data": {
      "text/plain": [
       "4"
      ]
     },
     "execution_count": 144,
     "metadata": {},
     "output_type": "execute_result"
    }
   ],
   "source": [
    "m[1,4]"
   ]
  },
  {
   "cell_type": "code",
   "execution_count": 145,
   "id": "b8218353-afc5-4e86-9de8-67b00b884778",
   "metadata": {},
   "outputs": [],
   "source": [
    "m[1, 4] = 99"
   ]
  },
  {
   "cell_type": "code",
   "execution_count": 146,
   "id": "ccdb3545-bd7c-41c3-85e2-dcf2de4dc9ce",
   "metadata": {},
   "outputs": [
    {
     "data": {
      "text/plain": [
       "array([[ 7,  3,  6,  0,  8],\n",
       "       [ 3,  3,  4,  7, 99],\n",
       "       [ 8,  5,  2,  3,  7]])"
      ]
     },
     "execution_count": 146,
     "metadata": {},
     "output_type": "execute_result"
    }
   ],
   "source": [
    "m"
   ]
  },
  {
   "cell_type": "code",
   "execution_count": 149,
   "id": "0fa30c83-2606-44eb-a135-81354799a740",
   "metadata": {},
   "outputs": [],
   "source": [
    "m[1,4] = 2.2 # NumPy Arrayler fixed type'tır. 2.2  array int olduğu için 2 olarak alınır."
   ]
  },
  {
   "cell_type": "code",
   "execution_count": 148,
   "id": "8f039c9d-0be6-4d99-baee-574e1aef0155",
   "metadata": {},
   "outputs": [
    {
     "data": {
      "text/plain": [
       "array([[7, 3, 6, 0, 8],\n",
       "       [3, 3, 4, 7, 2],\n",
       "       [8, 5, 2, 3, 7]])"
      ]
     },
     "execution_count": 148,
     "metadata": {},
     "output_type": "execute_result"
    }
   ],
   "source": [
    "m"
   ]
  },
  {
   "cell_type": "markdown",
   "id": "f96d23d3-464e-4f6c-a7d4-1610ab0aab96",
   "metadata": {},
   "source": [
    "## Array Alt Küme İşlemleri(Slicing)"
   ]
  },
  {
   "cell_type": "code",
   "execution_count": 150,
   "id": "1a87c805-ce20-4381-ab1a-272af490449c",
   "metadata": {},
   "outputs": [],
   "source": [
    "import numpy as np"
   ]
  },
  {
   "cell_type": "code",
   "execution_count": 152,
   "id": "56d3cb4e-79b4-4ab2-933d-b45b976fbf8a",
   "metadata": {},
   "outputs": [
    {
     "data": {
      "text/plain": [
       "array([20, 21, 22, 23, 24, 25, 26, 27, 28, 29])"
      ]
     },
     "execution_count": 152,
     "metadata": {},
     "output_type": "execute_result"
    }
   ],
   "source": [
    "a = np.arange(20,30)\n",
    "a"
   ]
  },
  {
   "cell_type": "code",
   "execution_count": 153,
   "id": "baedab49-7f9d-4c90-bc56-0169dc31b9e2",
   "metadata": {},
   "outputs": [
    {
     "data": {
      "text/plain": [
       "array([20, 21, 22])"
      ]
     },
     "execution_count": 153,
     "metadata": {},
     "output_type": "execute_result"
    }
   ],
   "source": [
    "a[0:3]"
   ]
  },
  {
   "cell_type": "code",
   "execution_count": 154,
   "id": "b547a3ea-935b-47ef-956b-06520cad2e85",
   "metadata": {},
   "outputs": [
    {
     "data": {
      "text/plain": [
       "array([20, 21, 22])"
      ]
     },
     "execution_count": 154,
     "metadata": {},
     "output_type": "execute_result"
    }
   ],
   "source": [
    "a[:3]"
   ]
  },
  {
   "cell_type": "code",
   "execution_count": 155,
   "id": "f0291428-e7f7-41cb-b047-b009fb63a0cb",
   "metadata": {},
   "outputs": [
    {
     "data": {
      "text/plain": [
       "array([23, 24, 25, 26, 27, 28, 29])"
      ]
     },
     "execution_count": 155,
     "metadata": {},
     "output_type": "execute_result"
    }
   ],
   "source": [
    "a[3:]"
   ]
  },
  {
   "cell_type": "code",
   "execution_count": 157,
   "id": "0bf9fdd3-6cc7-4f13-9266-e30edb9744f1",
   "metadata": {},
   "outputs": [
    {
     "data": {
      "text/plain": [
       "array([21, 23, 25, 27, 29])"
      ]
     },
     "execution_count": 157,
     "metadata": {},
     "output_type": "execute_result"
    }
   ],
   "source": [
    "a[1::2]  # 2. : işaretinden sonra seçilecek sayıların amacı indeksleri kaçar kaçar atlayacağını belirtmektir."
   ]
  },
  {
   "cell_type": "code",
   "execution_count": 158,
   "id": "b1a1a448-30a0-4dec-9b66-efbe1d82ccd1",
   "metadata": {},
   "outputs": [
    {
     "data": {
      "text/plain": [
       "array([20, 22, 24, 26, 28])"
      ]
     },
     "execution_count": 158,
     "metadata": {},
     "output_type": "execute_result"
    }
   ],
   "source": [
    "a[0::2]"
   ]
  },
  {
   "cell_type": "code",
   "execution_count": 159,
   "id": "7c15d6e3-c77f-448c-8d66-c43d913f0aeb",
   "metadata": {},
   "outputs": [
    {
     "data": {
      "text/plain": [
       "array([20, 23, 26, 29])"
      ]
     },
     "execution_count": 159,
     "metadata": {},
     "output_type": "execute_result"
    }
   ],
   "source": [
    "a[0::3]"
   ]
  },
  {
   "cell_type": "code",
   "execution_count": 160,
   "id": "d59723a7-1531-4573-bdf5-584cfeda5b65",
   "metadata": {},
   "outputs": [],
   "source": [
    "# İki boyutlu slice işlemleri"
   ]
  },
  {
   "cell_type": "code",
   "execution_count": 161,
   "id": "8cd75af3-db55-4dd9-b175-2d4c19934df2",
   "metadata": {},
   "outputs": [],
   "source": [
    "m = np.random.randint(10, size = (5,5))"
   ]
  },
  {
   "cell_type": "code",
   "execution_count": 162,
   "id": "3408d35c-c874-48ef-91de-eb81e8369bba",
   "metadata": {},
   "outputs": [
    {
     "data": {
      "text/plain": [
       "array([[5, 3, 8, 1, 9],\n",
       "       [3, 5, 3, 8, 9],\n",
       "       [2, 5, 2, 8, 8],\n",
       "       [2, 7, 2, 5, 7],\n",
       "       [0, 3, 3, 7, 0]])"
      ]
     },
     "execution_count": 162,
     "metadata": {},
     "output_type": "execute_result"
    }
   ],
   "source": [
    "m"
   ]
  },
  {
   "cell_type": "code",
   "execution_count": 164,
   "id": "2104ab10-40f5-4205-89ac-452b18da44dc",
   "metadata": {},
   "outputs": [
    {
     "data": {
      "text/plain": [
       "array([5, 3, 2, 2, 0])"
      ]
     },
     "execution_count": 164,
     "metadata": {},
     "output_type": "execute_result"
    }
   ],
   "source": [
    "m[:,0] # Bütün satırlar arasından, 0. sütunu seç."
   ]
  },
  {
   "cell_type": "code",
   "execution_count": 165,
   "id": "81ef47ac-a1a6-40bd-a8c0-2aaabb72685a",
   "metadata": {},
   "outputs": [
    {
     "data": {
      "text/plain": [
       "array([3, 5, 5, 7, 3])"
      ]
     },
     "execution_count": 165,
     "metadata": {},
     "output_type": "execute_result"
    }
   ],
   "source": [
    "m[:,1]"
   ]
  },
  {
   "cell_type": "code",
   "execution_count": 167,
   "id": "9b7e0956-ac09-4d94-b6c4-b034324bcfff",
   "metadata": {},
   "outputs": [
    {
     "data": {
      "text/plain": [
       "array([5, 3, 8, 1, 9])"
      ]
     },
     "execution_count": 167,
     "metadata": {},
     "output_type": "execute_result"
    }
   ],
   "source": [
    "m[0,:] # Tüm sütunlar arasından 0. satır."
   ]
  },
  {
   "cell_type": "code",
   "execution_count": 169,
   "id": "6d3c3e71-ed67-4215-a757-9b46bc11bae0",
   "metadata": {},
   "outputs": [
    {
     "data": {
      "text/plain": [
       "array([5, 3, 8, 1, 9])"
      ]
     },
     "execution_count": 169,
     "metadata": {},
     "output_type": "execute_result"
    }
   ],
   "source": [
    "m[0] # 0. satır olarak algılar."
   ]
  },
  {
   "cell_type": "code",
   "execution_count": 170,
   "id": "b6add781-b716-449a-a5c0-a0f26865ce27",
   "metadata": {},
   "outputs": [
    {
     "data": {
      "text/plain": [
       "array([[5, 3, 8],\n",
       "       [3, 5, 3]])"
      ]
     },
     "execution_count": 170,
     "metadata": {},
     "output_type": "execute_result"
    }
   ],
   "source": [
    "m[0:2, 0:3]"
   ]
  },
  {
   "cell_type": "code",
   "execution_count": 171,
   "id": "1be98153-7e4e-4a39-be31-8c9e5565b8c4",
   "metadata": {},
   "outputs": [
    {
     "data": {
      "text/plain": [
       "array([[5, 3],\n",
       "       [3, 5],\n",
       "       [2, 5],\n",
       "       [2, 7],\n",
       "       [0, 3]])"
      ]
     },
     "execution_count": 171,
     "metadata": {},
     "output_type": "execute_result"
    }
   ],
   "source": [
    "m[::,:2]"
   ]
  },
  {
   "cell_type": "code",
   "execution_count": 172,
   "id": "d9355033-6fea-4c84-9acd-1d8c0a2185b6",
   "metadata": {},
   "outputs": [
    {
     "data": {
      "text/plain": [
       "array([[3, 5],\n",
       "       [2, 5]])"
      ]
     },
     "execution_count": 172,
     "metadata": {},
     "output_type": "execute_result"
    }
   ],
   "source": [
    "m[1:3, 0:2]"
   ]
  },
  {
   "cell_type": "markdown",
   "id": "718be2e4-cb28-41e7-a94c-ea95b7b25e9c",
   "metadata": {},
   "source": [
    "## Alt Küme Üzerinde İşlem Yapmak"
   ]
  },
  {
   "cell_type": "code",
   "execution_count": 174,
   "id": "a7395498-f995-4cc5-96ad-fc6abd73a329",
   "metadata": {},
   "outputs": [
    {
     "data": {
      "text/plain": [
       "array([[4, 6, 6, 2, 5],\n",
       "       [5, 1, 9, 2, 4],\n",
       "       [5, 3, 9, 5, 7],\n",
       "       [4, 2, 7, 4, 7],\n",
       "       [8, 0, 6, 4, 2]])"
      ]
     },
     "execution_count": 174,
     "metadata": {},
     "output_type": "execute_result"
    }
   ],
   "source": [
    "import numpy as np\n",
    "a = np.random.randint(10, size = (5,5))\n",
    "a"
   ]
  },
  {
   "cell_type": "markdown",
   "id": "1cfacc69-9038-4f8f-9cba-e85a9a61b7c8",
   "metadata": {},
   "source": [
    "Bir array'in alt kümesine eriştikten sonra isimlendirip kaydettiğimizi düşünelim, bu kaydetmiş olduğumuz isimlendirme üzerine bir değişiklik yaptığımızda array'in ilk halinde de değişiklik olmakta. Fakat bazen seçilen arrayin alt kümesi üzerinde, o alt kümeye özel işlemler yapılmak istenebilir. Bu durumda **alt kümeleri bağımsızlaştırmak** denilen bir işlem yaparız."
   ]
  },
  {
   "cell_type": "code",
   "execution_count": 175,
   "id": "1f898589-4c7e-45b1-87a3-3ffee02d4224",
   "metadata": {},
   "outputs": [],
   "source": [
    "alt_a = a[0:3,0:2]"
   ]
  },
  {
   "cell_type": "code",
   "execution_count": 176,
   "id": "6db18d8d-f4e6-46c1-b5f0-e5f88eb332e6",
   "metadata": {},
   "outputs": [
    {
     "data": {
      "text/plain": [
       "array([[4, 6],\n",
       "       [5, 1],\n",
       "       [5, 3]])"
      ]
     },
     "execution_count": 176,
     "metadata": {},
     "output_type": "execute_result"
    }
   ],
   "source": [
    "alt_a"
   ]
  },
  {
   "cell_type": "code",
   "execution_count": 179,
   "id": "0cf70fd6-a631-47b0-8eb4-e96077c45f2c",
   "metadata": {},
   "outputs": [],
   "source": [
    "alt_a[0,0] = 99\n",
    "alt_a[1,1] = 888"
   ]
  },
  {
   "cell_type": "code",
   "execution_count": 180,
   "id": "b487913b-9637-4d3b-bb7e-edccf7a87386",
   "metadata": {},
   "outputs": [
    {
     "data": {
      "text/plain": [
       "array([[ 99,   6,   6,   2,   5],\n",
       "       [  5, 888,   9,   2,   4],\n",
       "       [  5,   3,   9,   5,   7],\n",
       "       [  4,   2,   7,   4,   7],\n",
       "       [  8,   0,   6,   4,   2]])"
      ]
     },
     "execution_count": 180,
     "metadata": {},
     "output_type": "execute_result"
    }
   ],
   "source": [
    "a"
   ]
  },
  {
   "cell_type": "code",
   "execution_count": 181,
   "id": "876122f1-c2e5-41b5-a060-c502270dcf83",
   "metadata": {},
   "outputs": [
    {
     "data": {
      "text/plain": [
       "array([[8, 8, 4, 6, 3],\n",
       "       [3, 0, 8, 2, 4],\n",
       "       [4, 6, 9, 4, 9],\n",
       "       [7, 1, 0, 7, 5],\n",
       "       [7, 4, 1, 0, 3]])"
      ]
     },
     "execution_count": 181,
     "metadata": {},
     "output_type": "execute_result"
    }
   ],
   "source": [
    "m = np.random.randint(10, size = (5,5))\n",
    "m"
   ]
  },
  {
   "cell_type": "code",
   "execution_count": 183,
   "id": "dae73d79-22c8-4fbc-b29f-fa9ca8918bfe",
   "metadata": {},
   "outputs": [
    {
     "data": {
      "text/plain": [
       "array([[8, 8],\n",
       "       [3, 0],\n",
       "       [4, 6]])"
      ]
     },
     "execution_count": 183,
     "metadata": {},
     "output_type": "execute_result"
    }
   ],
   "source": [
    "alt_b = m[0:3,0:2].copy()\n",
    "alt_b"
   ]
  },
  {
   "cell_type": "code",
   "execution_count": 184,
   "id": "283ef94d-5510-4627-8495-14d44043f3bc",
   "metadata": {},
   "outputs": [],
   "source": [
    "alt_b[0,0] = 999"
   ]
  },
  {
   "cell_type": "code",
   "execution_count": 185,
   "id": "4d5f3259-a3e2-4146-9eab-76b4fcbc1e85",
   "metadata": {},
   "outputs": [
    {
     "data": {
      "text/plain": [
       "array([[999,   8],\n",
       "       [  3,   0],\n",
       "       [  4,   6]])"
      ]
     },
     "execution_count": 185,
     "metadata": {},
     "output_type": "execute_result"
    }
   ],
   "source": [
    "alt_b"
   ]
  },
  {
   "cell_type": "code",
   "execution_count": 186,
   "id": "df0c376d-329e-440f-b1b4-8906ff06d6ca",
   "metadata": {},
   "outputs": [
    {
     "data": {
      "text/plain": [
       "array([[8, 8, 4, 6, 3],\n",
       "       [3, 0, 8, 2, 4],\n",
       "       [4, 6, 9, 4, 9],\n",
       "       [7, 1, 0, 7, 5],\n",
       "       [7, 4, 1, 0, 3]])"
      ]
     },
     "execution_count": 186,
     "metadata": {},
     "output_type": "execute_result"
    }
   ],
   "source": [
    "m"
   ]
  },
  {
   "cell_type": "markdown",
   "id": "68f36bb3-1e76-4b37-8dc6-eb559b0c7936",
   "metadata": {},
   "source": [
    "## Fancy Index ile Elemanlara Erişmek"
   ]
  },
  {
   "cell_type": "markdown",
   "id": "af88b929-1bdb-4894-95f1-6862fe467b2b",
   "metadata": {},
   "source": [
    "Fancy Index kavramı ileride en önemli anlamlardan biri olacak. Pandas'da ve NumPy'da Daha ileri düzey eleman seçme kabiliyeti verir."
   ]
  },
  {
   "cell_type": "code",
   "execution_count": 187,
   "id": "bf0953bf-03ae-4d05-9331-ece7fd6b72cc",
   "metadata": {},
   "outputs": [
    {
     "data": {
      "text/plain": [
       "array([ 0,  3,  6,  9, 12, 15, 18, 21, 24, 27])"
      ]
     },
     "execution_count": 187,
     "metadata": {},
     "output_type": "execute_result"
    }
   ],
   "source": [
    "import numpy as np\n",
    "v = np.arange(0, 30, 3)\n",
    "v"
   ]
  },
  {
   "cell_type": "code",
   "execution_count": 188,
   "id": "fb64b8ad-f50b-499a-ab83-9e7d1bf86014",
   "metadata": {},
   "outputs": [
    {
     "data": {
      "text/plain": [
       "3"
      ]
     },
     "execution_count": 188,
     "metadata": {},
     "output_type": "execute_result"
    }
   ],
   "source": [
    "v[1]"
   ]
  },
  {
   "cell_type": "code",
   "execution_count": 189,
   "id": "f15ff7c8-5420-4c56-9549-f72510863529",
   "metadata": {},
   "outputs": [
    {
     "data": {
      "text/plain": [
       "9"
      ]
     },
     "execution_count": 189,
     "metadata": {},
     "output_type": "execute_result"
    }
   ],
   "source": [
    "v[3]"
   ]
  },
  {
   "cell_type": "code",
   "execution_count": 190,
   "id": "1b9ae9fc-ee22-4c39-ae03-bf7e3d51c10e",
   "metadata": {},
   "outputs": [
    {
     "data": {
      "text/plain": [
       "15"
      ]
     },
     "execution_count": 190,
     "metadata": {},
     "output_type": "execute_result"
    }
   ],
   "source": [
    "v[5]"
   ]
  },
  {
   "cell_type": "code",
   "execution_count": 191,
   "id": "2e2a7b17-8389-4afa-980f-f6b65a63fdef",
   "metadata": {},
   "outputs": [
    {
     "data": {
      "text/plain": [
       "[3, 9, 15]"
      ]
     },
     "execution_count": 191,
     "metadata": {},
     "output_type": "execute_result"
    }
   ],
   "source": [
    "[v[1], v[3], v[5]]"
   ]
  },
  {
   "cell_type": "markdown",
   "id": "1d501910-d219-4698-9693-7ed986d72124",
   "metadata": {},
   "source": [
    "Elimizde onlarca, belki yüzlerce, binlerce index olduğunda bu index değerlerini 1 kerede sorgulama işlemlerini nasıl yapıyoruz?"
   ]
  },
  {
   "cell_type": "code",
   "execution_count": 192,
   "id": "989255f0-890a-48bd-8f84-9ad37e81177c",
   "metadata": {},
   "outputs": [],
   "source": [
    "al_getir = [1,3,5]"
   ]
  },
  {
   "cell_type": "code",
   "execution_count": 193,
   "id": "087cba4a-93b9-411e-ba61-df862a22bcc6",
   "metadata": {},
   "outputs": [
    {
     "data": {
      "text/plain": [
       "array([ 0,  3,  6,  9, 12, 15, 18, 21, 24, 27])"
      ]
     },
     "execution_count": 193,
     "metadata": {},
     "output_type": "execute_result"
    }
   ],
   "source": [
    "v"
   ]
  },
  {
   "cell_type": "code",
   "execution_count": 195,
   "id": "cdfadcf7-adf7-4f88-9cd8-ab1215824568",
   "metadata": {},
   "outputs": [
    {
     "data": {
      "text/plain": [
       "array([ 3,  9, 15])"
      ]
     },
     "execution_count": 195,
     "metadata": {},
     "output_type": "execute_result"
    }
   ],
   "source": [
    "v[al_getir] # 1. 3. 5. indeksi getirdi. Buna Fancy Index denir."
   ]
  },
  {
   "cell_type": "code",
   "execution_count": 196,
   "id": "d9a6d576-3d60-4ff2-a8f8-6247fbe0cffe",
   "metadata": {},
   "outputs": [],
   "source": [
    "# İki boyutta fancy"
   ]
  },
  {
   "cell_type": "code",
   "execution_count": 197,
   "id": "faa07755-8a46-481b-a7fc-bdd23a1b76e5",
   "metadata": {},
   "outputs": [
    {
     "data": {
      "text/plain": [
       "array([[0, 1, 2],\n",
       "       [3, 4, 5],\n",
       "       [6, 7, 8]])"
      ]
     },
     "execution_count": 197,
     "metadata": {},
     "output_type": "execute_result"
    }
   ],
   "source": [
    "m = np.arange(9).reshape((3,3))\n",
    "m"
   ]
  },
  {
   "cell_type": "code",
   "execution_count": 199,
   "id": "262f28ad-6716-43eb-a80f-4fcc32f8e950",
   "metadata": {},
   "outputs": [],
   "source": [
    "satir = np.array([0,1])\n",
    "sutun = np.array([1,2])"
   ]
  },
  {
   "cell_type": "code",
   "execution_count": 200,
   "id": "ce4dcaf7-c5cc-4dec-98cb-7c2f441c3920",
   "metadata": {},
   "outputs": [
    {
     "data": {
      "text/plain": [
       "array([1, 5])"
      ]
     },
     "execution_count": 200,
     "metadata": {},
     "output_type": "execute_result"
    }
   ],
   "source": [
    "m[satir, sutun]"
   ]
  },
  {
   "cell_type": "code",
   "execution_count": 201,
   "id": "c67784f1-2243-4c14-821c-bf704185b424",
   "metadata": {},
   "outputs": [],
   "source": [
    "# Basit İndex ile fancy index"
   ]
  },
  {
   "cell_type": "code",
   "execution_count": 202,
   "id": "d1af2ba3-e201-45b4-9580-3b7aae789aa4",
   "metadata": {},
   "outputs": [
    {
     "data": {
      "text/plain": [
       "array([[0, 1, 2],\n",
       "       [3, 4, 5],\n",
       "       [6, 7, 8]])"
      ]
     },
     "execution_count": 202,
     "metadata": {},
     "output_type": "execute_result"
    }
   ],
   "source": [
    "m"
   ]
  },
  {
   "cell_type": "code",
   "execution_count": 203,
   "id": "b4328bdb-71e6-4424-8e6a-b747c5c630d0",
   "metadata": {},
   "outputs": [
    {
     "data": {
      "text/plain": [
       "array([1, 2])"
      ]
     },
     "execution_count": 203,
     "metadata": {},
     "output_type": "execute_result"
    }
   ],
   "source": [
    "m[0, [1,2]]"
   ]
  },
  {
   "cell_type": "code",
   "execution_count": 206,
   "id": "4682925b-dffd-4696-929d-a0ad6881cd65",
   "metadata": {},
   "outputs": [],
   "source": [
    "# slice ile fancy"
   ]
  },
  {
   "cell_type": "code",
   "execution_count": 205,
   "id": "04352a98-99cf-4ef0-a4f5-685934a614fc",
   "metadata": {},
   "outputs": [
    {
     "data": {
      "text/plain": [
       "array([[1, 2],\n",
       "       [4, 5],\n",
       "       [7, 8]])"
      ]
     },
     "execution_count": 205,
     "metadata": {},
     "output_type": "execute_result"
    }
   ],
   "source": [
    "m[0:, [1,2]]"
   ]
  },
  {
   "cell_type": "markdown",
   "id": "16c343a0-c871-4605-be82-ae91235cc90f",
   "metadata": {},
   "source": [
    "---"
   ]
  },
  {
   "cell_type": "markdown",
   "id": "0044329b-63d0-4a92-94e2-4e0af3bbe04e",
   "metadata": {},
   "source": [
    "## KOŞULLU ELEMAN İŞLEMLERİ\n",
    "Belirli bir array veya matrisde, belirli koşulları sağlayan elemanlar."
   ]
  },
  {
   "cell_type": "code",
   "execution_count": 1,
   "id": "d2afb9f4-bfee-43b9-91b8-9db3228c391a",
   "metadata": {},
   "outputs": [],
   "source": [
    "import numpy as np\n",
    "v = np.array([1,2,3,4,5])"
   ]
  },
  {
   "cell_type": "code",
   "execution_count": 2,
   "id": "91a3399e-582c-47fc-a697-2ed2c60375fb",
   "metadata": {},
   "outputs": [
    {
     "data": {
      "text/plain": [
       "array([ True,  True, False, False, False])"
      ]
     },
     "execution_count": 2,
     "metadata": {},
     "output_type": "execute_result"
    }
   ],
   "source": [
    "v < 3"
   ]
  },
  {
   "cell_type": "code",
   "execution_count": 4,
   "id": "0c6c6180-6dd0-4f13-a1af-2389095867df",
   "metadata": {},
   "outputs": [
    {
     "data": {
      "text/plain": [
       "array([1, 2])"
      ]
     },
     "execution_count": 4,
     "metadata": {},
     "output_type": "execute_result"
    }
   ],
   "source": [
    "v[v < 3] # fancy index"
   ]
  },
  {
   "cell_type": "code",
   "execution_count": 5,
   "id": "dfc20147-bb3e-459f-955a-5dc53df8e654",
   "metadata": {},
   "outputs": [
    {
     "data": {
      "text/plain": [
       "array([4, 5])"
      ]
     },
     "execution_count": 5,
     "metadata": {},
     "output_type": "execute_result"
    }
   ],
   "source": [
    "v[v > 3]"
   ]
  },
  {
   "cell_type": "code",
   "execution_count": 6,
   "id": "662f9d32-70d6-4ef8-bd27-f337d7a7b559",
   "metadata": {},
   "outputs": [
    {
     "data": {
      "text/plain": [
       "array([3, 4, 5])"
      ]
     },
     "execution_count": 6,
     "metadata": {},
     "output_type": "execute_result"
    }
   ],
   "source": [
    "v[v >= 3]"
   ]
  },
  {
   "cell_type": "code",
   "execution_count": 7,
   "id": "cf0af970-2fdc-4e3d-9e12-7aa2cd836c8c",
   "metadata": {},
   "outputs": [
    {
     "data": {
      "text/plain": [
       "array([1, 2, 3])"
      ]
     },
     "execution_count": 7,
     "metadata": {},
     "output_type": "execute_result"
    }
   ],
   "source": [
    "v[v <= 3]"
   ]
  },
  {
   "cell_type": "code",
   "execution_count": 8,
   "id": "d9c4d3e7-8407-4053-b103-330362e98041",
   "metadata": {},
   "outputs": [
    {
     "data": {
      "text/plain": [
       "array([3])"
      ]
     },
     "execution_count": 8,
     "metadata": {},
     "output_type": "execute_result"
    }
   ],
   "source": [
    "v[v == 3]"
   ]
  },
  {
   "cell_type": "code",
   "execution_count": 9,
   "id": "f5f91fc5-3c0f-4db9-b8fe-579b1da8adab",
   "metadata": {},
   "outputs": [
    {
     "data": {
      "text/plain": [
       "array([1, 2, 4, 5])"
      ]
     },
     "execution_count": 9,
     "metadata": {},
     "output_type": "execute_result"
    }
   ],
   "source": [
    "v[v != 3]"
   ]
  },
  {
   "cell_type": "code",
   "execution_count": 10,
   "id": "11613122-4ad4-424e-be8a-8d0c10584f63",
   "metadata": {},
   "outputs": [
    {
     "data": {
      "text/plain": [
       "array([1, 2, 3, 4, 5])"
      ]
     },
     "execution_count": 10,
     "metadata": {},
     "output_type": "execute_result"
    }
   ],
   "source": [
    "v"
   ]
  },
  {
   "cell_type": "code",
   "execution_count": 11,
   "id": "ee2a86d2-150e-4c6b-a2e8-64a00d2ddbd8",
   "metadata": {},
   "outputs": [
    {
     "data": {
      "text/plain": [
       "array([ 2,  4,  6,  8, 10])"
      ]
     },
     "execution_count": 11,
     "metadata": {},
     "output_type": "execute_result"
    }
   ],
   "source": [
    "v*2"
   ]
  },
  {
   "cell_type": "code",
   "execution_count": 12,
   "id": "074e5b9e-0a45-40b5-b0de-ba4de8ed535e",
   "metadata": {},
   "outputs": [
    {
     "data": {
      "text/plain": [
       "array([0.2, 0.4, 0.6, 0.8, 1. ])"
      ]
     },
     "execution_count": 12,
     "metadata": {},
     "output_type": "execute_result"
    }
   ],
   "source": [
    "v / 5"
   ]
  },
  {
   "cell_type": "code",
   "execution_count": 13,
   "id": "16b51891-fab6-478b-b344-06b0846a0a3f",
   "metadata": {},
   "outputs": [
    {
     "data": {
      "text/plain": [
       "array([0.5, 1. , 1.5, 2. , 2.5])"
      ]
     },
     "execution_count": 13,
     "metadata": {},
     "output_type": "execute_result"
    }
   ],
   "source": [
    "v*5/10"
   ]
  },
  {
   "cell_type": "code",
   "execution_count": 14,
   "id": "a1e6f234-f09d-4a10-82ca-99d4381d3144",
   "metadata": {},
   "outputs": [
    {
     "data": {
      "text/plain": [
       "array([ 1,  4,  9, 16, 25])"
      ]
     },
     "execution_count": 14,
     "metadata": {},
     "output_type": "execute_result"
    }
   ],
   "source": [
    "v**2"
   ]
  },
  {
   "cell_type": "markdown",
   "id": "9fa73a40-cc78-4f03-a8b3-448268bc1b75",
   "metadata": {},
   "source": [
    "## MATEMATİKSEL İŞLEMLER"
   ]
  },
  {
   "cell_type": "code",
   "execution_count": 15,
   "id": "bd9e6c8f-6c51-4682-b133-22bb6d6a2374",
   "metadata": {},
   "outputs": [],
   "source": [
    "import numpy as np\n",
    "v = np.array([1,2,3,4,5])"
   ]
  },
  {
   "cell_type": "code",
   "execution_count": 16,
   "id": "3963e203-002f-4c21-81ed-cf15ab640672",
   "metadata": {},
   "outputs": [
    {
     "data": {
      "text/plain": [
       "array([0, 1, 2, 3, 4])"
      ]
     },
     "execution_count": 16,
     "metadata": {},
     "output_type": "execute_result"
    }
   ],
   "source": [
    "v - 1"
   ]
  },
  {
   "cell_type": "code",
   "execution_count": 17,
   "id": "f9cf7635-5e7c-42c4-9c8d-76dc29d31b7a",
   "metadata": {},
   "outputs": [
    {
     "data": {
      "text/plain": [
       "array([ 5, 10, 15, 20, 25])"
      ]
     },
     "execution_count": 17,
     "metadata": {},
     "output_type": "execute_result"
    }
   ],
   "source": [
    "v * 5"
   ]
  },
  {
   "cell_type": "code",
   "execution_count": 18,
   "id": "81f0ca5a-d1e7-4531-8f54-9c48bda0f0aa",
   "metadata": {},
   "outputs": [
    {
     "data": {
      "text/plain": [
       "array([0.2, 0.4, 0.6, 0.8, 1. ])"
      ]
     },
     "execution_count": 18,
     "metadata": {},
     "output_type": "execute_result"
    }
   ],
   "source": [
    "v / 5"
   ]
  },
  {
   "cell_type": "code",
   "execution_count": 19,
   "id": "9a5c0831-7779-4524-a7b3-fb5ee1c47123",
   "metadata": {},
   "outputs": [
    {
     "data": {
      "text/plain": [
       "array([-0.5,  0. ,  0.5,  1. ,  1.5])"
      ]
     },
     "execution_count": 19,
     "metadata": {},
     "output_type": "execute_result"
    }
   ],
   "source": [
    "v*5/10 - 1"
   ]
  },
  {
   "cell_type": "markdown",
   "id": "3bad0e57-04fa-4bf1-9956-0a66af59c134",
   "metadata": {},
   "source": [
    "### ufunc \n",
    "- ufuncs \"Evrensel Fonksiyonlar\" anlamına gelir ve ndarray nesnesi üzerinde çalışan NumPy fonksiyonlarıdır.\n",
    "- ufuncs, NumPy'de elemanlar üzerinde yinelemeden çok daha hızlı olan vektörleştirmeyi uygulamak için kullanılır. Ayrıca yayın ve hesaplama için çok yararlı olan reduce, accumulate vb. gibi ek yöntemler sağlarlar.\n",
    "- Biz matematiksel operatörleri kullanıp işlemler yapsakta, arka tarafta numpy içerisinde tanımlanmış spesifik fonksiyonlar çalıştırılır. "
   ]
  },
  {
   "cell_type": "code",
   "execution_count": null,
   "id": "debf6480-29cd-4c7e-afdf-214719bbd1a0",
   "metadata": {},
   "outputs": [],
   "source": [
    "np.subtract(v, 1) # v - 1"
   ]
  },
  {
   "cell_type": "code",
   "execution_count": 25,
   "id": "f35d21fb-474b-47e5-a498-9a118986ed77",
   "metadata": {},
   "outputs": [
    {
     "data": {
      "text/plain": [
       "array([2, 3, 4, 5, 6])"
      ]
     },
     "execution_count": 25,
     "metadata": {},
     "output_type": "execute_result"
    }
   ],
   "source": [
    "np.add(v, 1) # v + 1"
   ]
  },
  {
   "cell_type": "code",
   "execution_count": 26,
   "id": "78347a2e-936b-4a3e-aedc-706bc2a0bb33",
   "metadata": {},
   "outputs": [
    {
     "data": {
      "text/plain": [
       "array([ 4,  8, 12, 16, 20])"
      ]
     },
     "execution_count": 26,
     "metadata": {},
     "output_type": "execute_result"
    }
   ],
   "source": [
    "np.multiply(v , 4) # v * 4"
   ]
  },
  {
   "cell_type": "code",
   "execution_count": 27,
   "id": "5733111e-ec93-4a37-b5c0-f8f4998bf496",
   "metadata": {},
   "outputs": [
    {
     "data": {
      "text/plain": [
       "array([0.33333333, 0.66666667, 1.        , 1.33333333, 1.66666667])"
      ]
     },
     "execution_count": 27,
     "metadata": {},
     "output_type": "execute_result"
    }
   ],
   "source": [
    "np.divide(v, 3) # v / 3"
   ]
  },
  {
   "cell_type": "code",
   "execution_count": 28,
   "id": "ab9b8a5d-d85b-4581-9aad-09e370d6e77d",
   "metadata": {},
   "outputs": [
    {
     "data": {
      "text/plain": [
       "array([  1,   8,  27,  64, 125], dtype=int32)"
      ]
     },
     "execution_count": 28,
     "metadata": {},
     "output_type": "execute_result"
    }
   ],
   "source": [
    "v**3"
   ]
  },
  {
   "cell_type": "code",
   "execution_count": 30,
   "id": "420ae896-96f3-402a-a82c-4fded23c2872",
   "metadata": {},
   "outputs": [
    {
     "data": {
      "text/plain": [
       "array([  1,   8,  27,  64, 125], dtype=int32)"
      ]
     },
     "execution_count": 30,
     "metadata": {},
     "output_type": "execute_result"
    }
   ],
   "source": [
    "np.power(v, 3) # v**3"
   ]
  },
  {
   "cell_type": "markdown",
   "id": "903c9b1e-be54-4d9b-b417-a3f34ff1d770",
   "metadata": {},
   "source": [
    "v % 2"
   ]
  },
  {
   "cell_type": "code",
   "execution_count": 32,
   "id": "ee97a789-d263-4c79-aed2-d44d42f4d594",
   "metadata": {},
   "outputs": [
    {
     "data": {
      "text/plain": [
       "array([1, 0, 1, 0, 1], dtype=int32)"
      ]
     },
     "execution_count": 32,
     "metadata": {},
     "output_type": "execute_result"
    }
   ],
   "source": [
    "np.mod(v,2) # v%2"
   ]
  },
  {
   "cell_type": "code",
   "execution_count": 34,
   "id": "024dec61-4eb8-40a6-a388-dfaca42f44e6",
   "metadata": {},
   "outputs": [
    {
     "data": {
      "text/plain": [
       "array([3])"
      ]
     },
     "execution_count": 34,
     "metadata": {},
     "output_type": "execute_result"
    }
   ],
   "source": [
    "np.absolute(np.array([-3])) # |v| mutlak değer"
   ]
  },
  {
   "cell_type": "code",
   "execution_count": 35,
   "id": "ca114cf5-3904-4bbf-87db-e025c3652ea7",
   "metadata": {},
   "outputs": [
    {
     "data": {
      "text/plain": [
       "0.9589157234143065"
      ]
     },
     "execution_count": 35,
     "metadata": {},
     "output_type": "execute_result"
    }
   ],
   "source": [
    "np.sin(360)"
   ]
  },
  {
   "cell_type": "code",
   "execution_count": 36,
   "id": "9165bc9a-d1e1-4c0e-bb82-587dfb5a8404",
   "metadata": {},
   "outputs": [
    {
     "data": {
      "text/plain": [
       "-0.5984600690578581"
      ]
     },
     "execution_count": 36,
     "metadata": {},
     "output_type": "execute_result"
    }
   ],
   "source": [
    "np.cos(180)"
   ]
  },
  {
   "cell_type": "code",
   "execution_count": 37,
   "id": "eed7e15c-da9f-43d4-ac8f-1c5bdbf1ae28",
   "metadata": {},
   "outputs": [],
   "source": [
    "v = np.array([1,2,3])"
   ]
  },
  {
   "cell_type": "code",
   "execution_count": 38,
   "id": "dbc04107-20cc-41d2-8894-539ce8f91966",
   "metadata": {},
   "outputs": [
    {
     "data": {
      "text/plain": [
       "array([0.        , 0.69314718, 1.09861229])"
      ]
     },
     "execution_count": 38,
     "metadata": {},
     "output_type": "execute_result"
    }
   ],
   "source": [
    "np.log(v)"
   ]
  },
  {
   "cell_type": "code",
   "execution_count": 39,
   "id": "78ce0045-5983-498c-b83c-bc4b0a3f0ec5",
   "metadata": {},
   "outputs": [
    {
     "data": {
      "text/plain": [
       "array([0.       , 1.       , 1.5849625])"
      ]
     },
     "execution_count": 39,
     "metadata": {},
     "output_type": "execute_result"
    }
   ],
   "source": [
    "np.log2(v)"
   ]
  },
  {
   "cell_type": "code",
   "execution_count": 40,
   "id": "7c1d4e4b-708b-4da5-a956-a9bbaf758e74",
   "metadata": {},
   "outputs": [
    {
     "data": {
      "text/plain": [
       "array([0.        , 0.30103   , 0.47712125])"
      ]
     },
     "execution_count": 40,
     "metadata": {},
     "output_type": "execute_result"
    }
   ],
   "source": [
    "np.log10(v)"
   ]
  },
  {
   "cell_type": "code",
   "execution_count": 41,
   "id": "cf7f15a3-bacc-4c65-b063-c9892d766ebb",
   "metadata": {},
   "outputs": [
    {
     "data": {
      "text/plain": [
       "\u001b[1;31mType:\u001b[0m        module\n",
       "\u001b[1;31mString form:\u001b[0m <module 'numpy' from 'C:\\\\Users\\\\tahaa\\\\anaconda3\\\\Lib\\\\site-packages\\\\numpy\\\\__init__.py'>\n",
       "\u001b[1;31mFile:\u001b[0m        c:\\users\\tahaa\\anaconda3\\lib\\site-packages\\numpy\\__init__.py\n",
       "\u001b[1;31mDocstring:\u001b[0m  \n",
       "NumPy\n",
       "=====\n",
       "\n",
       "Provides\n",
       "  1. An array object of arbitrary homogeneous items\n",
       "  2. Fast mathematical operations over arrays\n",
       "  3. Linear Algebra, Fourier Transforms, Random Number Generation\n",
       "\n",
       "How to use the documentation\n",
       "----------------------------\n",
       "Documentation is available in two forms: docstrings provided\n",
       "with the code, and a loose standing reference guide, available from\n",
       "`the NumPy homepage <https://numpy.org>`_.\n",
       "\n",
       "We recommend exploring the docstrings using\n",
       "`IPython <https://ipython.org>`_, an advanced Python shell with\n",
       "TAB-completion and introspection capabilities.  See below for further\n",
       "instructions.\n",
       "\n",
       "The docstring examples assume that `numpy` has been imported as ``np``::\n",
       "\n",
       "  >>> import numpy as np\n",
       "\n",
       "Code snippets are indicated by three greater-than signs::\n",
       "\n",
       "  >>> x = 42\n",
       "  >>> x = x + 1\n",
       "\n",
       "Use the built-in ``help`` function to view a function's docstring::\n",
       "\n",
       "  >>> help(np.sort)\n",
       "  ... # doctest: +SKIP\n",
       "\n",
       "For some objects, ``np.info(obj)`` may provide additional help.  This is\n",
       "particularly true if you see the line \"Help on ufunc object:\" at the top\n",
       "of the help() page.  Ufuncs are implemented in C, not Python, for speed.\n",
       "The native Python help() does not know how to view their help, but our\n",
       "np.info() function does.\n",
       "\n",
       "To search for documents containing a keyword, do::\n",
       "\n",
       "  >>> np.lookfor('keyword')\n",
       "  ... # doctest: +SKIP\n",
       "\n",
       "General-purpose documents like a glossary and help on the basic concepts\n",
       "of numpy are available under the ``doc`` sub-module::\n",
       "\n",
       "  >>> from numpy import doc\n",
       "  >>> help(doc)\n",
       "  ... # doctest: +SKIP\n",
       "\n",
       "Available subpackages\n",
       "---------------------\n",
       "lib\n",
       "    Basic functions used by several sub-packages.\n",
       "random\n",
       "    Core Random Tools\n",
       "linalg\n",
       "    Core Linear Algebra Tools\n",
       "fft\n",
       "    Core FFT routines\n",
       "polynomial\n",
       "    Polynomial tools\n",
       "testing\n",
       "    NumPy testing tools\n",
       "distutils\n",
       "    Enhancements to distutils with support for\n",
       "    Fortran compilers support and more  (for Python <= 3.11).\n",
       "\n",
       "Utilities\n",
       "---------\n",
       "test\n",
       "    Run numpy unittests\n",
       "show_config\n",
       "    Show numpy build configuration\n",
       "matlib\n",
       "    Make everything matrices.\n",
       "__version__\n",
       "    NumPy version string\n",
       "\n",
       "Viewing documentation using IPython\n",
       "-----------------------------------\n",
       "\n",
       "Start IPython and import `numpy` usually under the alias ``np``: `import\n",
       "numpy as np`.  Then, directly past or use the ``%cpaste`` magic to paste\n",
       "examples into the shell.  To see which functions are available in `numpy`,\n",
       "type ``np.<TAB>`` (where ``<TAB>`` refers to the TAB key), or use\n",
       "``np.*cos*?<ENTER>`` (where ``<ENTER>`` refers to the ENTER key) to narrow\n",
       "down the list.  To view the docstring for a function, use\n",
       "``np.cos?<ENTER>`` (to view the docstring) and ``np.cos??<ENTER>`` (to view\n",
       "the source code).\n",
       "\n",
       "Copies vs. in-place operation\n",
       "-----------------------------\n",
       "Most of the functions in `numpy` return a copy of the array argument\n",
       "(e.g., `np.sort`).  In-place versions of these functions are often\n",
       "available as array methods, i.e. ``x = np.array([1,2,3]); x.sort()``.\n",
       "Exceptions to this rule are documented."
      ]
     },
     "metadata": {},
     "output_type": "display_data"
    }
   ],
   "source": [
    "?np"
   ]
  },
  {
   "cell_type": "code",
   "execution_count": 42,
   "id": "9a1ea013-4530-4f84-a9e1-c5e9f5033594",
   "metadata": {},
   "outputs": [],
   "source": [
    "# cheatsheetlere bakın"
   ]
  },
  {
   "cell_type": "markdown",
   "id": "c36209b5-3104-4f7f-bb6d-e4df9bf13a26",
   "metadata": {},
   "source": [
    "## NumPy ile iki Bilinmeyenli Denklem Çözümü"
   ]
  },
  {
   "cell_type": "code",
   "execution_count": 45,
   "id": "02a7197d-481d-433a-865a-7713158a8567",
   "metadata": {},
   "outputs": [],
   "source": [
    "import numpy as np"
   ]
  },
  {
   "cell_type": "markdown",
   "id": "14457850-a133-4680-9817-6f1955f08718",
   "metadata": {},
   "source": [
    "5 * x0 + x1 = 12\n",
    "\n",
    "x0 + 3 * x1 = 10"
   ]
  },
  {
   "cell_type": "code",
   "execution_count": 47,
   "id": "46c500dc-8d5f-4d01-abfb-899d5339fc10",
   "metadata": {},
   "outputs": [],
   "source": [
    "# Bilinmeyen ifadeleri katsayılarını bir vektöre koy, sonuçları bir vektöre koy.\n",
    "a = np.array([[5,1],[1,3]])\n",
    "b = np.array([12,10])"
   ]
  },
  {
   "cell_type": "code",
   "execution_count": 48,
   "id": "8c9e2671-de3c-4648-b650-282fd398bce1",
   "metadata": {},
   "outputs": [
    {
     "data": {
      "text/plain": [
       "array([[5, 1],\n",
       "       [1, 3]])"
      ]
     },
     "execution_count": 48,
     "metadata": {},
     "output_type": "execute_result"
    }
   ],
   "source": [
    "a"
   ]
  },
  {
   "cell_type": "code",
   "execution_count": 49,
   "id": "0fdecf0d-a556-44fb-a100-5b47840f202d",
   "metadata": {},
   "outputs": [
    {
     "data": {
      "text/plain": [
       "array([12, 10])"
      ]
     },
     "execution_count": 49,
     "metadata": {},
     "output_type": "execute_result"
    }
   ],
   "source": [
    "b"
   ]
  },
  {
   "cell_type": "code",
   "execution_count": 50,
   "id": "c140d58d-4268-435b-8d03-0c6f083da7a9",
   "metadata": {},
   "outputs": [
    {
     "data": {
      "text/plain": [
       "array([1.85714286, 2.71428571])"
      ]
     },
     "execution_count": 50,
     "metadata": {},
     "output_type": "execute_result"
    }
   ],
   "source": [
    "x = np.linalg.solve(a, b)\n",
    "x"
   ]
  },
  {
   "cell_type": "markdown",
   "id": "8725cc20-d5e2-4291-b636-f8e2e4125af5",
   "metadata": {},
   "source": [
    "---"
   ]
  },
  {
   "cell_type": "code",
   "execution_count": null,
   "id": "79e28fbd-50f8-421e-83e3-498e89b73cae",
   "metadata": {},
   "outputs": [],
   "source": []
  }
 ],
 "metadata": {
  "kernelspec": {
   "display_name": "Python 3 (ipykernel)",
   "language": "python",
   "name": "python3"
  },
  "language_info": {
   "codemirror_mode": {
    "name": "ipython",
    "version": 3
   },
   "file_extension": ".py",
   "mimetype": "text/x-python",
   "name": "python",
   "nbconvert_exporter": "python",
   "pygments_lexer": "ipython3",
   "version": "3.11.7"
  }
 },
 "nbformat": 4,
 "nbformat_minor": 5
}
