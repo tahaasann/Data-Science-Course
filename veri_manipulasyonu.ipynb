{
 "cells": [
  {
   "cell_type": "code",
   "execution_count": 1,
   "id": "300982a2-06ac-4c95-9df0-2d2d22141481",
   "metadata": {},
   "outputs": [
    {
     "name": "stdout",
     "output_type": "stream",
     "text": [
      "a\n"
     ]
    }
   ],
   "source": [
    "print(\"a\")"
   ]
  },
  {
   "cell_type": "markdown",
   "id": "2b4bfaac-36b0-45d2-acc2-1b1c143b91b5",
   "metadata": {},
   "source": [
    "Merhaba\n",
    "\n",
    "herhangi başka şeyler de yazılabilir\n",
    "\n",
    "_italik_\n",
    "**kalin**"
   ]
  },
  {
   "cell_type": "code",
   "execution_count": 2,
   "id": "5a38aa0a-f711-459b-973f-22daa5e563d8",
   "metadata": {},
   "outputs": [
    {
     "data": {
      "text/plain": [
       "'a'"
      ]
     },
     "execution_count": 2,
     "metadata": {},
     "output_type": "execute_result"
    }
   ],
   "source": [
    "\"a\""
   ]
  },
  {
   "cell_type": "markdown",
   "id": "dc956796-90b0-44f1-9348-befac12c02cd",
   "metadata": {},
   "source": [
    "---"
   ]
  },
  {
   "cell_type": "markdown",
   "id": "008dcb18-27ec-4065-928d-0deea946bd48",
   "metadata": {},
   "source": [
    "# Numpy Giriş"
   ]
  },
  {
   "cell_type": "markdown",
   "id": "f41568c3-0c45-4a0b-bd2e-75dd3405e3c7",
   "metadata": {},
   "source": [
    "- Numerical Python\n",
    "- Bilimsel hesaplamalar için kullanılır.\n",
    "- Arrayler / çok boyutlu arrayler ve matrisler üzerinde yüksek performanslı çalışma imkanı sağlar.\n",
    "- Listelere benzerdir, farkı; verimli veri saklama ve vektörel operasyonlardır. Listelerdeki tutulan tüm öğeler için ayrı ayrı tip bilgisi ve ek bilgiler tutulur, numpy'da ise kullanılacak veri tipleri arasında bir ayrım yoktur, numpy hepsini fixed type(sabitlenmiş tipe) zorlar(hepsinin tipi aynı olacak yani)  bu sayede tek bir tip bilgisi tutar, bu şekilde numpy daha az maliyetlidir. Bu sayede veri saklama anlamında çok ciddi performans sağlar.\n",
    "![numpy array yapısı](img/numpy-001.png)"
   ]
  },
  {
   "cell_type": "markdown",
   "id": "9f8aac95-6351-44ea-950c-1736bcc3919e",
   "metadata": {},
   "source": [
    "## Neden NumPy?\n",
    "- NumPy'ı daha üst seviyeden, daha az çabayla, daha büyük işler yapabilme olanağı sağladığından dolayı kullanıyor olacağız.\n",
    "- Yer tutma maliyetlerini NumPy çok azaltmaktadır."
   ]
  },
  {
   "cell_type": "code",
   "execution_count": 8,
   "id": "6de788f7-194c-4d1f-b310-f5dbf8498742",
   "metadata": {},
   "outputs": [
    {
     "data": {
      "text/plain": [
       "[2, 3, 4, 5]"
      ]
     },
     "execution_count": 8,
     "metadata": {},
     "output_type": "execute_result"
    }
   ],
   "source": [
    "a = [1,2,3,4]\n",
    "b = [2,3,4,5]\n",
    "a\n",
    "b # sadece en son ne yazdıysak onu yazdırır"
   ]
  },
  {
   "cell_type": "code",
   "execution_count": 9,
   "id": "e73818de-0387-4ead-903b-847f4f0b731b",
   "metadata": {},
   "outputs": [
    {
     "data": {
      "text/plain": [
       "[1, 2, 3, 4]"
      ]
     },
     "execution_count": 9,
     "metadata": {},
     "output_type": "execute_result"
    }
   ],
   "source": [
    "a"
   ]
  },
  {
   "cell_type": "code",
   "execution_count": 1,
   "id": "1d418ef0-af72-4069-8d4b-aa783327772e",
   "metadata": {},
   "outputs": [],
   "source": [
    "import numpy as np"
   ]
  },
  {
   "cell_type": "code",
   "execution_count": 2,
   "id": "1df24059-2e69-4bd4-ae7a-94c2d6544fc7",
   "metadata": {},
   "outputs": [],
   "source": [
    "a = np.array([1,2,3,4]) # numpy array veri tipinde\n",
    "b = np.array([2,3,4,5])"
   ]
  },
  {
   "cell_type": "code",
   "execution_count": 12,
   "id": "2e80f62a-0fb8-4487-bfbb-f865554e3245",
   "metadata": {},
   "outputs": [
    {
     "data": {
      "text/plain": [
       "array([ 2,  6, 12, 20])"
      ]
     },
     "execution_count": 12,
     "metadata": {},
     "output_type": "execute_result"
    }
   ],
   "source": [
    "a * b"
   ]
  },
  {
   "cell_type": "markdown",
   "id": "c0ae833e-3913-41cb-a439-7a82b28a7944",
   "metadata": {},
   "source": [
    "## Numpy Array Oluşturmak\n",
    "- Sıfırdan veya listeler üzerinde NumPy Array oluşturulabilir."
   ]
  },
  {
   "cell_type": "markdown",
   "id": "347d0d43-35c5-428c-b3f4-3bd78263cf2f",
   "metadata": {},
   "source": [
    "Numpy array, numpy kütüphanesi içerisinde yer alan veri tipidir (listeler, tuple ve sözlükler gibi). "
   ]
  },
  {
   "cell_type": "code",
   "execution_count": 15,
   "id": "262ae52f-bdf3-4668-b4dd-2b5c5468feb5",
   "metadata": {},
   "outputs": [],
   "source": [
    "import numpy as np"
   ]
  },
  {
   "cell_type": "code",
   "execution_count": 4,
   "id": "73694269-a706-4c94-8afc-abce12ce3b50",
   "metadata": {},
   "outputs": [
    {
     "data": {
      "text/plain": [
       "array([1, 2, 3, 4, 5])"
      ]
     },
     "execution_count": 4,
     "metadata": {},
     "output_type": "execute_result"
    }
   ],
   "source": [
    "np.array([1,2,3,4,5])"
   ]
  },
  {
   "cell_type": "code",
   "execution_count": 5,
   "id": "7681934b-d808-4a22-ac32-c526e26f6ff0",
   "metadata": {},
   "outputs": [],
   "source": [
    "a = np.array([1,2,3,4,5])"
   ]
  },
  {
   "cell_type": "code",
   "execution_count": 6,
   "id": "a53e0b70-ed38-4874-9404-405f1731a6a7",
   "metadata": {},
   "outputs": [
    {
     "data": {
      "text/plain": [
       "numpy.ndarray"
      ]
     },
     "execution_count": 6,
     "metadata": {},
     "output_type": "execute_result"
    }
   ],
   "source": [
    "type(a)"
   ]
  },
  {
   "cell_type": "code",
   "execution_count": 16,
   "id": "88d9e5f3-0f07-4a3e-9335-82deb134acac",
   "metadata": {},
   "outputs": [
    {
     "data": {
      "text/plain": [
       "array([ 3.14,  4.  ,  2.  , 13.  ])"
      ]
     },
     "execution_count": 16,
     "metadata": {},
     "output_type": "execute_result"
    }
   ],
   "source": [
    "np.array([3.14, 4, 2, 13]) #sabit tip baskısı - NumPy array tek tip veri tutar. \n",
    "                           #Böylece bir tane veri tutar ve veri tutma maliyeti düşürülür"
   ]
  },
  {
   "cell_type": "code",
   "execution_count": 19,
   "id": "8c4b8dff-23e9-448b-b194-72c9885697ab",
   "metadata": {},
   "outputs": [
    {
     "data": {
      "text/plain": [
       "array([ 3,  4,  2, 13])"
      ]
     },
     "execution_count": 19,
     "metadata": {},
     "output_type": "execute_result"
    }
   ],
   "source": [
    "np.array([3.14, 4, 2, 13], dtype = \"int\")"
   ]
  },
  {
   "cell_type": "markdown",
   "id": "7ecd5c21-9d88-4c34-b984-7cfc648c2f66",
   "metadata": {},
   "source": [
    "## Sıfırdan array oluşturma"
   ]
  },
  {
   "cell_type": "code",
   "execution_count": 17,
   "id": "8c740335-47a8-4286-b4b3-f134e1b85fde",
   "metadata": {},
   "outputs": [
    {
     "data": {
      "text/plain": [
       "array([0, 0, 0, 0, 0, 0, 0, 0, 0, 0])"
      ]
     },
     "execution_count": 17,
     "metadata": {},
     "output_type": "execute_result"
    }
   ],
   "source": [
    "np.zeros(10, dtype = int) # 0 lardan oluşan int tipinde nd array oluştur."
   ]
  },
  {
   "cell_type": "code",
   "execution_count": 18,
   "id": "1cc3fbf5-293c-49d4-a93d-b63a13903e14",
   "metadata": {},
   "outputs": [
    {
     "data": {
      "text/plain": [
       "array([[1, 1, 1, 1, 1],\n",
       "       [1, 1, 1, 1, 1],\n",
       "       [1, 1, 1, 1, 1]])"
      ]
     },
     "execution_count": 18,
     "metadata": {},
     "output_type": "execute_result"
    }
   ],
   "source": [
    "np.ones((3,5), dtype= int)  # iki boyutlu 1lerden oluşan nd array oluştur."
   ]
  },
  {
   "cell_type": "code",
   "execution_count": 19,
   "id": "936fb827-003b-4a6d-8c96-0e66edce5a8e",
   "metadata": {},
   "outputs": [
    {
     "data": {
      "text/plain": [
       "array([[3, 3, 3, 3, 3],\n",
       "       [3, 3, 3, 3, 3],\n",
       "       [3, 3, 3, 3, 3]])"
      ]
     },
     "execution_count": 19,
     "metadata": {},
     "output_type": "execute_result"
    }
   ],
   "source": [
    "np.full((3,5), 3) # Sadece 3lerden oluşan ve bizim verdiğimiz boyut bilgisiyle oluşan array"
   ]
  },
  {
   "cell_type": "code",
   "execution_count": 28,
   "id": "2aadac3f-91a0-4493-bc21-91a602cca5e3",
   "metadata": {},
   "outputs": [
    {
     "data": {
      "text/plain": [
       "array([ 0,  3,  6,  9, 12, 15, 18, 21, 24, 27, 30])"
      ]
     },
     "execution_count": 28,
     "metadata": {},
     "output_type": "execute_result"
    }
   ],
   "source": [
    "np.arange(0,31,3) # 0'dan 31'e kadar 3er 3er artacak bir dizi oluşturmak \n",
    "                  # arange fonksiyonunu çok sık kullanacağız."
   ]
  },
  {
   "cell_type": "code",
   "execution_count": 29,
   "id": "1c21230d-0bf1-46d6-bd39-ad64549186b0",
   "metadata": {},
   "outputs": [
    {
     "data": {
      "text/plain": [
       "array([0.        , 0.11111111, 0.22222222, 0.33333333, 0.44444444,\n",
       "       0.55555556, 0.66666667, 0.77777778, 0.88888889, 1.        ])"
      ]
     },
     "execution_count": 29,
     "metadata": {},
     "output_type": "execute_result"
    }
   ],
   "source": [
    "np.linspace(0, 1, 10) # O ile 1 arasında 10 tane değer oluştur"
   ]
  },
  {
   "cell_type": "code",
   "execution_count": 30,
   "id": "c2f185af-eae4-4f61-9cb9-7458a8631a2f",
   "metadata": {},
   "outputs": [
    {
     "data": {
      "text/plain": [
       "array([[ 7.25146931,  6.8703473 ,  3.94723798,  4.42124934],\n",
       "       [18.91699769, 12.77242545, 12.43752782, 20.54370614],\n",
       "       [15.51037639, 12.84345899,  9.57200393, 15.94204809]])"
      ]
     },
     "execution_count": 30,
     "metadata": {},
     "output_type": "execute_result"
    }
   ],
   "source": [
    "np.random.normal(10, 4, (3,4)) # Ortalaması 10, Standart sapması 4 olan 2 boyutlu (3e4) random array oluştur.\n",
    "                               # random.normal fonksiyonunu çok sık kullanacağız."
   ]
  },
  {
   "cell_type": "markdown",
   "id": "8f906197-3a2a-42f9-9dec-10bdccd68f89",
   "metadata": {},
   "source": [
    "- Tek boyutlu array'ın karşılığı **Vektör** dür.\n",
    "- İki boyutlu array'ın karşılığı **Matris** dir."
   ]
  },
  {
   "cell_type": "code",
   "execution_count": 31,
   "id": "af00e164-e7f5-49ab-bcad-c16dc799ba63",
   "metadata": {},
   "outputs": [
    {
     "data": {
      "text/plain": [
       "array([[7, 1, 5],\n",
       "       [1, 0, 1],\n",
       "       [8, 1, 3]])"
      ]
     },
     "execution_count": 31,
     "metadata": {},
     "output_type": "execute_result"
    }
   ],
   "source": [
    "np.random.randint(0, 10, (3,3)) # Dağılımla ilgilenmiyorum, integer değerlerden rastgele oluşmuş bir array\n",
    "                                # O'dan 10'a kadar 3e3lük bir random matris oluştur.\n",
    "                                # random.randint fonksiyonunu çok sık kullanacağız."
   ]
  },
  {
   "cell_type": "markdown",
   "id": "8f4f1038-140b-4961-82f3-7faad0161c3a",
   "metadata": {},
   "source": [
    "## NumPy Array Özellikleri"
   ]
  },
  {
   "cell_type": "markdown",
   "id": "0b0b68b9-97ca-4686-ad5a-e01c0f05be73",
   "metadata": {},
   "source": [
    "* ndim: boyut sayısı\n",
    "* shape: boyut bilgisi\n",
    "* size: toplam eleman sayısı\n",
    "* dtype: array veri tipi"
   ]
  },
  {
   "cell_type": "code",
   "execution_count": 42,
   "id": "151bcbdf-ff47-447b-a3d7-99d8a017715e",
   "metadata": {},
   "outputs": [],
   "source": [
    "import numpy as np"
   ]
  },
  {
   "cell_type": "code",
   "execution_count": 43,
   "id": "be877b80-25e9-4f00-83b9-7b0fa7715e8d",
   "metadata": {},
   "outputs": [
    {
     "data": {
      "text/plain": [
       "array([9, 1, 6, 5, 6, 0, 9, 9, 1, 7])"
      ]
     },
     "execution_count": 43,
     "metadata": {},
     "output_type": "execute_result"
    }
   ],
   "source": [
    "np.random.randint(10, size = 10)"
   ]
  },
  {
   "cell_type": "raw",
   "id": "6c8a396c-150d-41b5-a649-6f9a24223760",
   "metadata": {},
   "source": [
    "a = np.random.randint(10, size = 10)"
   ]
  },
  {
   "cell_type": "code",
   "execution_count": 44,
   "id": "8bcdaec8-83ee-43b5-983f-3e14cf6e8622",
   "metadata": {},
   "outputs": [
    {
     "data": {
      "text/plain": [
       "1"
      ]
     },
     "execution_count": 44,
     "metadata": {},
     "output_type": "execute_result"
    }
   ],
   "source": [
    "a.ndim"
   ]
  },
  {
   "cell_type": "code",
   "execution_count": 45,
   "id": "09ed58d1-0b9b-44ec-be19-af47fa45008c",
   "metadata": {},
   "outputs": [
    {
     "data": {
      "text/plain": [
       "(5,)"
      ]
     },
     "execution_count": 45,
     "metadata": {},
     "output_type": "execute_result"
    }
   ],
   "source": [
    "a.shape"
   ]
  },
  {
   "cell_type": "code",
   "execution_count": 46,
   "id": "9347add4-c97f-42f6-a054-cba849a5ce85",
   "metadata": {},
   "outputs": [
    {
     "data": {
      "text/plain": [
       "5"
      ]
     },
     "execution_count": 46,
     "metadata": {},
     "output_type": "execute_result"
    }
   ],
   "source": [
    "a.size"
   ]
  },
  {
   "cell_type": "code",
   "execution_count": 47,
   "id": "0e147911-48dd-4d3b-b5ad-0fda851d4816",
   "metadata": {},
   "outputs": [
    {
     "data": {
      "text/plain": [
       "dtype('int32')"
      ]
     },
     "execution_count": 47,
     "metadata": {},
     "output_type": "execute_result"
    }
   ],
   "source": [
    "a.dtype"
   ]
  },
  {
   "cell_type": "code",
   "execution_count": 48,
   "id": "7557a6d0-baee-4df6-b542-ac790ef88d32",
   "metadata": {},
   "outputs": [],
   "source": [
    "b = np.random.randint(10, size = (3,5))"
   ]
  },
  {
   "cell_type": "code",
   "execution_count": 49,
   "id": "3d6f5f2b-2c18-431a-b264-62638adff242",
   "metadata": {},
   "outputs": [
    {
     "data": {
      "text/plain": [
       "array([[7, 6, 4, 1, 8],\n",
       "       [4, 3, 4, 8, 5],\n",
       "       [5, 4, 3, 6, 8]])"
      ]
     },
     "execution_count": 49,
     "metadata": {},
     "output_type": "execute_result"
    }
   ],
   "source": [
    "b"
   ]
  },
  {
   "cell_type": "code",
   "execution_count": 50,
   "id": "2389e4e6-5c7d-4fff-b7fa-7db654801c44",
   "metadata": {},
   "outputs": [
    {
     "data": {
      "text/plain": [
       "2"
      ]
     },
     "execution_count": 50,
     "metadata": {},
     "output_type": "execute_result"
    }
   ],
   "source": [
    "b.ndim"
   ]
  },
  {
   "cell_type": "code",
   "execution_count": 51,
   "id": "7a0c4832-4c10-46f0-b0a7-d0eee8421cbe",
   "metadata": {},
   "outputs": [
    {
     "data": {
      "text/plain": [
       "(3, 5)"
      ]
     },
     "execution_count": 51,
     "metadata": {},
     "output_type": "execute_result"
    }
   ],
   "source": [
    "b.shape"
   ]
  },
  {
   "cell_type": "code",
   "execution_count": 52,
   "id": "ae091eaf-521c-44ba-80ea-a127000b1bf9",
   "metadata": {},
   "outputs": [
    {
     "data": {
      "text/plain": [
       "15"
      ]
     },
     "execution_count": 52,
     "metadata": {},
     "output_type": "execute_result"
    }
   ],
   "source": [
    "b.size"
   ]
  },
  {
   "cell_type": "code",
   "execution_count": 53,
   "id": "5e09e248-d76f-442d-acdb-ccf31e0aabc4",
   "metadata": {},
   "outputs": [
    {
     "data": {
      "text/plain": [
       "dtype('int32')"
      ]
     },
     "execution_count": 53,
     "metadata": {},
     "output_type": "execute_result"
    }
   ],
   "source": [
    "b.dtype"
   ]
  },
  {
   "cell_type": "markdown",
   "id": "ba771a60-66eb-4757-9a39-bfff8680dbfc",
   "metadata": {},
   "source": [
    "## Yeniden Şekillendirme(reshaping)"
   ]
  },
  {
   "cell_type": "code",
   "execution_count": 54,
   "id": "a8e03cc5-1a98-4853-87da-1624f1acfed8",
   "metadata": {},
   "outputs": [],
   "source": [
    "import numpy as np"
   ]
  },
  {
   "cell_type": "code",
   "execution_count": 55,
   "id": "b6444612-d204-4062-b2cb-36a7b8129652",
   "metadata": {},
   "outputs": [
    {
     "data": {
      "text/plain": [
       "array([1, 2, 3, 4, 5, 6, 7, 8, 9])"
      ]
     },
     "execution_count": 55,
     "metadata": {},
     "output_type": "execute_result"
    }
   ],
   "source": [
    "np.arange(1,10)"
   ]
  },
  {
   "cell_type": "markdown",
   "id": "8c1e6482-206f-460c-a166-5d71d22bd3a9",
   "metadata": {},
   "source": [
    "Bu array üzerinden 3e3lük array oluşturalım: "
   ]
  },
  {
   "cell_type": "markdown",
   "id": "755b6935-648a-4be6-b09e-a1dcffb8083e",
   "metadata": {},
   "source": [
    "Bazen çalışmalarda fonksiyonların veya döngülerin üretmiş olduğu çıktılar tek bir boyutta(tek bir array formunda) gerçekleşebiliyor. Bunları bazen tek boyuttan iki boyuta, bazen de iki boyuttan tek boyuta indirilme ihtiyacları ortaya çıkabiliyor. Bu sebeple bu yapısal dönüşümleri iyi kavramak gerekir. Buna benzer ihtiyaçlarla **reshape** fonksiyonuyla başa çıkabiliyoruz"
   ]
  },
  {
   "cell_type": "code",
   "execution_count": 57,
   "id": "548820d1-ece4-4fa0-8a94-6ee16aca08a9",
   "metadata": {},
   "outputs": [
    {
     "data": {
      "text/plain": [
       "array([[1, 2, 3],\n",
       "       [4, 5, 6],\n",
       "       [7, 8, 9]])"
      ]
     },
     "execution_count": 57,
     "metadata": {},
     "output_type": "execute_result"
    }
   ],
   "source": [
    "np.arange(1,10).reshape((3,3))"
   ]
  },
  {
   "cell_type": "code",
   "execution_count": 58,
   "id": "20fcb24c-0002-47bd-90a6-edf1d86c343d",
   "metadata": {},
   "outputs": [],
   "source": [
    "a = np.arange(1,10)"
   ]
  },
  {
   "cell_type": "code",
   "execution_count": 59,
   "id": "c4ca93be-7bcf-44f4-9640-eea943520f18",
   "metadata": {},
   "outputs": [
    {
     "data": {
      "text/plain": [
       "array([1, 2, 3, 4, 5, 6, 7, 8, 9])"
      ]
     },
     "execution_count": 59,
     "metadata": {},
     "output_type": "execute_result"
    }
   ],
   "source": [
    "a"
   ]
  },
  {
   "cell_type": "code",
   "execution_count": 60,
   "id": "ebd4a362-cf0c-4e1f-8ddc-f35898ce57e3",
   "metadata": {},
   "outputs": [
    {
     "data": {
      "text/plain": [
       "1"
      ]
     },
     "execution_count": 60,
     "metadata": {},
     "output_type": "execute_result"
    }
   ],
   "source": [
    "a.ndim"
   ]
  },
  {
   "cell_type": "code",
   "execution_count": 62,
   "id": "5bdc2755-289d-43fb-a111-7402fd506739",
   "metadata": {},
   "outputs": [],
   "source": [
    "b = a.reshape((1,9)) # tek satır 9 sütun | artık bir matristir, array değil."
   ]
  },
  {
   "cell_type": "code",
   "execution_count": 63,
   "id": "03928e60-74a9-4c94-af36-c51a1cdcf4c3",
   "metadata": {},
   "outputs": [
    {
     "data": {
      "text/plain": [
       "2"
      ]
     },
     "execution_count": 63,
     "metadata": {},
     "output_type": "execute_result"
    }
   ],
   "source": [
    "b.ndim"
   ]
  },
  {
   "cell_type": "markdown",
   "id": "9a5c8113-712a-4c9c-8338-3e06f052a390",
   "metadata": {},
   "source": [
    "## Array Birleştirme (Concatenation)"
   ]
  },
  {
   "cell_type": "code",
   "execution_count": 64,
   "id": "590108d4-0381-4902-b1b0-df7b0ddc77cf",
   "metadata": {},
   "outputs": [],
   "source": [
    "import numpy as np"
   ]
  },
  {
   "cell_type": "code",
   "execution_count": 65,
   "id": "e75f62d5-32af-41b8-a273-6978f56a18fb",
   "metadata": {},
   "outputs": [],
   "source": [
    "x = np.array([1,2,3])\n",
    "y = np.array([4,5,6])"
   ]
  },
  {
   "cell_type": "code",
   "execution_count": 70,
   "id": "15e56efc-2d08-480c-bc2c-447e4b0ec5c9",
   "metadata": {},
   "outputs": [],
   "source": [
    "# Tek boyut"
   ]
  },
  {
   "cell_type": "code",
   "execution_count": 67,
   "id": "e4226f1c-3d2a-4843-8aab-02bcab1b30e5",
   "metadata": {},
   "outputs": [
    {
     "data": {
      "text/plain": [
       "array([1, 2, 3, 4, 5, 6])"
      ]
     },
     "execution_count": 67,
     "metadata": {},
     "output_type": "execute_result"
    }
   ],
   "source": [
    "np.concatenate([x,y])"
   ]
  },
  {
   "cell_type": "code",
   "execution_count": 68,
   "id": "2592584d-b581-40fd-88e1-28597db6338f",
   "metadata": {},
   "outputs": [],
   "source": [
    "z = np.array([7,8,9])"
   ]
  },
  {
   "cell_type": "code",
   "execution_count": 69,
   "id": "7b7a45bf-1667-4ee1-924b-4482d5f08f0c",
   "metadata": {},
   "outputs": [
    {
     "data": {
      "text/plain": [
       "array([1, 2, 3, 4, 5, 6, 7, 8, 9])"
      ]
     },
     "execution_count": 69,
     "metadata": {},
     "output_type": "execute_result"
    }
   ],
   "source": [
    "np.concatenate([x,y,z])"
   ]
  },
  {
   "cell_type": "code",
   "execution_count": 71,
   "id": "e213af28-014e-4c9d-81af-064bb1dff7b9",
   "metadata": {},
   "outputs": [],
   "source": [
    "# İki boyut"
   ]
  },
  {
   "cell_type": "code",
   "execution_count": 72,
   "id": "c0a2d03d-b6cd-4627-beaf-583a10c0d1f2",
   "metadata": {},
   "outputs": [],
   "source": [
    "a = np.array([[1,2,3],\n",
    "              [4,5,6]])"
   ]
  },
  {
   "cell_type": "code",
   "execution_count": 73,
   "id": "a68fa2ce-0c82-4932-a08e-4f3154a3d06a",
   "metadata": {},
   "outputs": [
    {
     "data": {
      "text/plain": [
       "array([[1, 2, 3],\n",
       "       [4, 5, 6],\n",
       "       [1, 2, 3],\n",
       "       [4, 5, 6]])"
      ]
     },
     "execution_count": 73,
     "metadata": {},
     "output_type": "execute_result"
    }
   ],
   "source": [
    "np.concatenate([a,a])"
   ]
  },
  {
   "cell_type": "code",
   "execution_count": 74,
   "id": "6801508d-a5d0-4e18-b1ae-df23235e6e6e",
   "metadata": {},
   "outputs": [
    {
     "data": {
      "text/plain": [
       "array([[1, 2, 3, 1, 2, 3],\n",
       "       [4, 5, 6, 4, 5, 6]])"
      ]
     },
     "execution_count": 74,
     "metadata": {},
     "output_type": "execute_result"
    }
   ],
   "source": [
    "np.concatenate([a,a], axis = 1) # Satır bazında değil sütun bazında"
   ]
  },
  {
   "cell_type": "code",
   "execution_count": 75,
   "id": "f6cf882c-2a7b-47e5-a553-5d6434e66f8e",
   "metadata": {},
   "outputs": [
    {
     "data": {
      "text/plain": [
       "array([[1, 2, 3],\n",
       "       [4, 5, 6],\n",
       "       [1, 2, 3],\n",
       "       [4, 5, 6]])"
      ]
     },
     "execution_count": 75,
     "metadata": {},
     "output_type": "execute_result"
    }
   ],
   "source": [
    "np.concatenate([a,a], axis = 0) # Sütun bazında değil satır bazında birleştirir."
   ]
  },
  {
   "cell_type": "markdown",
   "id": "e8806e85-12cb-43ab-9c48-2da323412631",
   "metadata": {},
   "source": [
    "## Array Ayırma (Splitting)"
   ]
  },
  {
   "cell_type": "code",
   "execution_count": 79,
   "id": "2560fcc9-c4ba-4019-8709-66683cd72024",
   "metadata": {},
   "outputs": [],
   "source": [
    "import numpy as np"
   ]
  },
  {
   "cell_type": "code",
   "execution_count": 81,
   "id": "dc591616-cae2-4138-a389-9ab0181ceaad",
   "metadata": {},
   "outputs": [],
   "source": [
    "x = np.array([1,2,3,99,99,3,2,1])"
   ]
  },
  {
   "cell_type": "code",
   "execution_count": 83,
   "id": "f63fe064-40bc-4f65-a09b-736b2f668404",
   "metadata": {},
   "outputs": [
    {
     "data": {
      "text/plain": [
       "[array([1, 2, 3]), array([99, 99]), array([3, 2, 1])]"
      ]
     },
     "execution_count": 83,
     "metadata": {},
     "output_type": "execute_result"
    }
   ],
   "source": [
    "np.split(x, [3,5]) # 3'e kadar olan(indeks sayısına göre) ve 5'e kadar olan arrayleri ayır"
   ]
  },
  {
   "cell_type": "code",
   "execution_count": 84,
   "id": "fb215b9c-b011-44ab-9a8f-2a79ea0af305",
   "metadata": {},
   "outputs": [],
   "source": [
    "a,b,c = np.split(x, [3,5])"
   ]
  },
  {
   "cell_type": "code",
   "execution_count": 85,
   "id": "585bcbf9-96ac-49b1-9883-54953b4fbc74",
   "metadata": {},
   "outputs": [
    {
     "data": {
      "text/plain": [
       "array([1, 2, 3])"
      ]
     },
     "execution_count": 85,
     "metadata": {},
     "output_type": "execute_result"
    }
   ],
   "source": [
    "a"
   ]
  },
  {
   "cell_type": "code",
   "execution_count": 86,
   "id": "17ef6223-4984-436a-8902-564a49f965ab",
   "metadata": {},
   "outputs": [
    {
     "data": {
      "text/plain": [
       "array([99, 99])"
      ]
     },
     "execution_count": 86,
     "metadata": {},
     "output_type": "execute_result"
    }
   ],
   "source": [
    "b"
   ]
  },
  {
   "cell_type": "code",
   "execution_count": 87,
   "id": "fb59d536-3837-43a2-aee0-fc721c8776d7",
   "metadata": {},
   "outputs": [
    {
     "data": {
      "text/plain": [
       "array([3, 2, 1])"
      ]
     },
     "execution_count": 87,
     "metadata": {},
     "output_type": "execute_result"
    }
   ],
   "source": [
    "c"
   ]
  },
  {
   "cell_type": "markdown",
   "id": "51b7bf5c-70de-486b-b293-16379c2e59d4",
   "metadata": {},
   "source": [
    "### İki boyutlu ayırma"
   ]
  },
  {
   "cell_type": "code",
   "execution_count": 88,
   "id": "5a4ccaab-67ed-4da6-8c96-02c397eb9749",
   "metadata": {},
   "outputs": [],
   "source": [
    "m = np.arange(16).reshape(4,4)"
   ]
  },
  {
   "cell_type": "code",
   "execution_count": 89,
   "id": "2bc6e0b1-af12-4769-bc51-6cb65bd2d205",
   "metadata": {},
   "outputs": [
    {
     "data": {
      "text/plain": [
       "array([[ 0,  1,  2,  3],\n",
       "       [ 4,  5,  6,  7],\n",
       "       [ 8,  9, 10, 11],\n",
       "       [12, 13, 14, 15]])"
      ]
     },
     "execution_count": 89,
     "metadata": {},
     "output_type": "execute_result"
    }
   ],
   "source": [
    "m"
   ]
  },
  {
   "cell_type": "code",
   "execution_count": 90,
   "id": "45ddcce5-f3cb-49b2-acc1-6268eaa837a6",
   "metadata": {},
   "outputs": [
    {
     "data": {
      "text/plain": [
       "[array([[0, 1, 2, 3],\n",
       "        [4, 5, 6, 7]]),\n",
       " array([[ 8,  9, 10, 11],\n",
       "        [12, 13, 14, 15]])]"
      ]
     },
     "execution_count": 90,
     "metadata": {},
     "output_type": "execute_result"
    }
   ],
   "source": [
    "np.vsplit(m, [2])"
   ]
  },
  {
   "cell_type": "code",
   "execution_count": 91,
   "id": "8d20f5c0-d6ea-4aa7-b60d-65beec64ca0f",
   "metadata": {},
   "outputs": [],
   "source": [
    "ust, alt = np.vsplit(m, [2])"
   ]
  },
  {
   "cell_type": "code",
   "execution_count": 92,
   "id": "d5e26e6b-30c0-40f7-9dff-a02c00d0fc05",
   "metadata": {},
   "outputs": [
    {
     "data": {
      "text/plain": [
       "array([[0, 1, 2, 3],\n",
       "       [4, 5, 6, 7]])"
      ]
     },
     "execution_count": 92,
     "metadata": {},
     "output_type": "execute_result"
    }
   ],
   "source": [
    "ust"
   ]
  },
  {
   "cell_type": "code",
   "execution_count": 93,
   "id": "b668835a-1a44-4977-85a2-3bae1d268d70",
   "metadata": {},
   "outputs": [
    {
     "data": {
      "text/plain": [
       "array([[ 8,  9, 10, 11],\n",
       "       [12, 13, 14, 15]])"
      ]
     },
     "execution_count": 93,
     "metadata": {},
     "output_type": "execute_result"
    }
   ],
   "source": [
    "alt"
   ]
  },
  {
   "cell_type": "code",
   "execution_count": 94,
   "id": "9d9b0e1f-2d52-43d0-93ba-3fbfc19b6705",
   "metadata": {},
   "outputs": [
    {
     "data": {
      "text/plain": [
       "array([[ 0,  1,  2,  3],\n",
       "       [ 4,  5,  6,  7],\n",
       "       [ 8,  9, 10, 11],\n",
       "       [12, 13, 14, 15]])"
      ]
     },
     "execution_count": 94,
     "metadata": {},
     "output_type": "execute_result"
    }
   ],
   "source": [
    "m"
   ]
  },
  {
   "cell_type": "code",
   "execution_count": 95,
   "id": "faf67f5f-613e-4244-aa18-19b84d0aa790",
   "metadata": {},
   "outputs": [
    {
     "data": {
      "text/plain": [
       "[array([[ 0,  1],\n",
       "        [ 4,  5],\n",
       "        [ 8,  9],\n",
       "        [12, 13]]),\n",
       " array([[ 2,  3],\n",
       "        [ 6,  7],\n",
       "        [10, 11],\n",
       "        [14, 15]])]"
      ]
     },
     "execution_count": 95,
     "metadata": {},
     "output_type": "execute_result"
    }
   ],
   "source": [
    "np.hsplit(m, [2])"
   ]
  },
  {
   "cell_type": "code",
   "execution_count": 96,
   "id": "def1a911-865b-40f7-8272-932ecf0f87c5",
   "metadata": {},
   "outputs": [],
   "source": [
    "sag, sol = np.hsplit(m,[2])"
   ]
  },
  {
   "cell_type": "code",
   "execution_count": 97,
   "id": "c217937c-f468-43ec-9e59-e7193657ea91",
   "metadata": {},
   "outputs": [
    {
     "data": {
      "text/plain": [
       "array([[ 0,  1],\n",
       "       [ 4,  5],\n",
       "       [ 8,  9],\n",
       "       [12, 13]])"
      ]
     },
     "execution_count": 97,
     "metadata": {},
     "output_type": "execute_result"
    }
   ],
   "source": [
    "sag"
   ]
  },
  {
   "cell_type": "code",
   "execution_count": 98,
   "id": "38950cd7-0b45-4f72-a7b6-8ba6253a9f68",
   "metadata": {},
   "outputs": [
    {
     "data": {
      "text/plain": [
       "array([[ 2,  3],\n",
       "       [ 6,  7],\n",
       "       [10, 11],\n",
       "       [14, 15]])"
      ]
     },
     "execution_count": 98,
     "metadata": {},
     "output_type": "execute_result"
    }
   ],
   "source": [
    "sol"
   ]
  },
  {
   "cell_type": "code",
   "execution_count": null,
   "id": "75d45c8f-962f-4146-b68e-be03a745f85d",
   "metadata": {},
   "outputs": [],
   "source": []
  }
 ],
 "metadata": {
  "kernelspec": {
   "display_name": "Python 3 (ipykernel)",
   "language": "python",
   "name": "python3"
  },
  "language_info": {
   "codemirror_mode": {
    "name": "ipython",
    "version": 3
   },
   "file_extension": ".py",
   "mimetype": "text/x-python",
   "name": "python",
   "nbconvert_exporter": "python",
   "pygments_lexer": "ipython3",
   "version": "3.11.7"
  }
 },
 "nbformat": 4,
 "nbformat_minor": 5
}
