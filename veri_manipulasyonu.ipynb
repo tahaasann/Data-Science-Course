{
 "cells": [
  {
   "cell_type": "code",
   "execution_count": 1,
   "id": "300982a2-06ac-4c95-9df0-2d2d22141481",
   "metadata": {},
   "outputs": [
    {
     "name": "stdout",
     "output_type": "stream",
     "text": [
      "a\n"
     ]
    }
   ],
   "source": [
    "print(\"a\")"
   ]
  },
  {
   "cell_type": "markdown",
   "id": "2b4bfaac-36b0-45d2-acc2-1b1c143b91b5",
   "metadata": {},
   "source": [
    "Merhaba\n",
    "\n",
    "herhangi başka şeyler de yazılabilir\n",
    "\n",
    "_italik_\n",
    "**kalin**"
   ]
  },
  {
   "cell_type": "code",
   "execution_count": 2,
   "id": "5a38aa0a-f711-459b-973f-22daa5e563d8",
   "metadata": {},
   "outputs": [
    {
     "data": {
      "text/plain": [
       "'a'"
      ]
     },
     "execution_count": 2,
     "metadata": {},
     "output_type": "execute_result"
    }
   ],
   "source": [
    "\"a\""
   ]
  },
  {
   "cell_type": "markdown",
   "id": "dc956796-90b0-44f1-9348-befac12c02cd",
   "metadata": {},
   "source": [
    "---"
   ]
  },
  {
   "cell_type": "markdown",
   "id": "008dcb18-27ec-4065-928d-0deea946bd48",
   "metadata": {},
   "source": [
    "# Numpy Giriş"
   ]
  },
  {
   "cell_type": "markdown",
   "id": "f41568c3-0c45-4a0b-bd2e-75dd3405e3c7",
   "metadata": {},
   "source": [
    "- Numerical Python\n",
    "- Bilimsel hesaplamalar için kullanılır.\n",
    "- Arrayler / çok boyutlu arrayler ve matrisler üzerinde yüksek performanslı çalışma imkanı sağlar.\n",
    "- Listelere benzerdir, farkı; verimli veri saklama ve vektörel operasyonlardır. Listelerdeki tutulan tüm öğeler için ayrı ayrı tip bilgisi ve ek bilgiler tutulur, numpy'da ise kullanılacak veri tipleri arasında bir ayrım yoktur, numpy hepsini fixed type(sabitlenmiş tipe) zorlar(hepsinin tipi aynı olacak yani)  bu sayede tek bir tip bilgisi tutar, bu şekilde numpy daha az maliyetlidir. Bu sayede veri saklama anlamında çok ciddi performans sağlar.\n",
    "![numpy array yapısı](img/numpy-001.png)"
   ]
  },
  {
   "cell_type": "markdown",
   "id": "9f8aac95-6351-44ea-950c-1736bcc3919e",
   "metadata": {},
   "source": [
    "## Neden NumPy?\n",
    "- NumPy'ı daha üst seviyeden, daha az çabayla, daha büyük işler yapabilme olanağı sağladığından dolayı kullanıyor olacağız.\n",
    "- Yer tutma maliyetlerini NumPy çok azaltmaktadır."
   ]
  },
  {
   "cell_type": "code",
   "execution_count": 8,
   "id": "6de788f7-194c-4d1f-b310-f5dbf8498742",
   "metadata": {},
   "outputs": [
    {
     "data": {
      "text/plain": [
       "[2, 3, 4, 5]"
      ]
     },
     "execution_count": 8,
     "metadata": {},
     "output_type": "execute_result"
    }
   ],
   "source": [
    "a = [1,2,3,4]\n",
    "b = [2,3,4,5]\n",
    "a\n",
    "b # sadece en son ne yazdıysak onu yazdırır"
   ]
  },
  {
   "cell_type": "code",
   "execution_count": 9,
   "id": "e73818de-0387-4ead-903b-847f4f0b731b",
   "metadata": {},
   "outputs": [
    {
     "data": {
      "text/plain": [
       "[1, 2, 3, 4]"
      ]
     },
     "execution_count": 9,
     "metadata": {},
     "output_type": "execute_result"
    }
   ],
   "source": [
    "a"
   ]
  },
  {
   "cell_type": "code",
   "execution_count": 1,
   "id": "1d418ef0-af72-4069-8d4b-aa783327772e",
   "metadata": {},
   "outputs": [],
   "source": [
    "import numpy as np"
   ]
  },
  {
   "cell_type": "code",
   "execution_count": 2,
   "id": "1df24059-2e69-4bd4-ae7a-94c2d6544fc7",
   "metadata": {},
   "outputs": [],
   "source": [
    "a = np.array([1,2,3,4]) # numpy array veri tipinde\n",
    "b = np.array([2,3,4,5])"
   ]
  },
  {
   "cell_type": "code",
   "execution_count": 12,
   "id": "2e80f62a-0fb8-4487-bfbb-f865554e3245",
   "metadata": {},
   "outputs": [
    {
     "data": {
      "text/plain": [
       "array([ 2,  6, 12, 20])"
      ]
     },
     "execution_count": 12,
     "metadata": {},
     "output_type": "execute_result"
    }
   ],
   "source": [
    "a * b"
   ]
  },
  {
   "cell_type": "markdown",
   "id": "c0ae833e-3913-41cb-a439-7a82b28a7944",
   "metadata": {},
   "source": [
    "## Numpy Array Oluşturmak\n",
    "- Sıfırdan veya listeler üzerinde NumPy Array oluşturulabilir."
   ]
  },
  {
   "cell_type": "markdown",
   "id": "347d0d43-35c5-428c-b3f4-3bd78263cf2f",
   "metadata": {},
   "source": [
    "Numpy array, numpy kütüphanesi içerisinde yer alan veri tipidir (listeler, tuple ve sözlükler gibi). "
   ]
  },
  {
   "cell_type": "code",
   "execution_count": 15,
   "id": "262ae52f-bdf3-4668-b4dd-2b5c5468feb5",
   "metadata": {},
   "outputs": [],
   "source": [
    "import numpy as np"
   ]
  },
  {
   "cell_type": "code",
   "execution_count": 4,
   "id": "73694269-a706-4c94-8afc-abce12ce3b50",
   "metadata": {},
   "outputs": [
    {
     "data": {
      "text/plain": [
       "array([1, 2, 3, 4, 5])"
      ]
     },
     "execution_count": 4,
     "metadata": {},
     "output_type": "execute_result"
    }
   ],
   "source": [
    "np.array([1,2,3,4,5])"
   ]
  },
  {
   "cell_type": "code",
   "execution_count": 5,
   "id": "7681934b-d808-4a22-ac32-c526e26f6ff0",
   "metadata": {},
   "outputs": [],
   "source": [
    "a = np.array([1,2,3,4,5])"
   ]
  },
  {
   "cell_type": "code",
   "execution_count": 6,
   "id": "a53e0b70-ed38-4874-9404-405f1731a6a7",
   "metadata": {},
   "outputs": [
    {
     "data": {
      "text/plain": [
       "numpy.ndarray"
      ]
     },
     "execution_count": 6,
     "metadata": {},
     "output_type": "execute_result"
    }
   ],
   "source": [
    "type(a)"
   ]
  },
  {
   "cell_type": "code",
   "execution_count": 16,
   "id": "88d9e5f3-0f07-4a3e-9335-82deb134acac",
   "metadata": {},
   "outputs": [
    {
     "data": {
      "text/plain": [
       "array([ 3.14,  4.  ,  2.  , 13.  ])"
      ]
     },
     "execution_count": 16,
     "metadata": {},
     "output_type": "execute_result"
    }
   ],
   "source": [
    "np.array([3.14, 4, 2, 13]) #sabit tip baskısı - NumPy array tek tip veri tutar. \n",
    "                           #Böylece bir tane veri tutar ve veri tutma maliyeti düşürülür"
   ]
  },
  {
   "cell_type": "code",
   "execution_count": 19,
   "id": "8c4b8dff-23e9-448b-b194-72c9885697ab",
   "metadata": {},
   "outputs": [
    {
     "data": {
      "text/plain": [
       "array([ 3,  4,  2, 13])"
      ]
     },
     "execution_count": 19,
     "metadata": {},
     "output_type": "execute_result"
    }
   ],
   "source": [
    "np.array([3.14, 4, 2, 13], dtype = \"int\")"
   ]
  },
  {
   "cell_type": "markdown",
   "id": "7ecd5c21-9d88-4c34-b984-7cfc648c2f66",
   "metadata": {},
   "source": [
    "## Sıfırdan array oluşturma"
   ]
  },
  {
   "cell_type": "code",
   "execution_count": 17,
   "id": "8c740335-47a8-4286-b4b3-f134e1b85fde",
   "metadata": {},
   "outputs": [
    {
     "data": {
      "text/plain": [
       "array([0, 0, 0, 0, 0, 0, 0, 0, 0, 0])"
      ]
     },
     "execution_count": 17,
     "metadata": {},
     "output_type": "execute_result"
    }
   ],
   "source": [
    "np.zeros(10, dtype = int) # 0 lardan oluşan int tipinde nd array oluştur."
   ]
  },
  {
   "cell_type": "code",
   "execution_count": 18,
   "id": "1cc3fbf5-293c-49d4-a93d-b63a13903e14",
   "metadata": {},
   "outputs": [
    {
     "data": {
      "text/plain": [
       "array([[1, 1, 1, 1, 1],\n",
       "       [1, 1, 1, 1, 1],\n",
       "       [1, 1, 1, 1, 1]])"
      ]
     },
     "execution_count": 18,
     "metadata": {},
     "output_type": "execute_result"
    }
   ],
   "source": [
    "np.ones((3,5), dtype= int)  # iki boyutlu 1lerden oluşan nd array oluştur."
   ]
  },
  {
   "cell_type": "code",
   "execution_count": 19,
   "id": "936fb827-003b-4a6d-8c96-0e66edce5a8e",
   "metadata": {},
   "outputs": [
    {
     "data": {
      "text/plain": [
       "array([[3, 3, 3, 3, 3],\n",
       "       [3, 3, 3, 3, 3],\n",
       "       [3, 3, 3, 3, 3]])"
      ]
     },
     "execution_count": 19,
     "metadata": {},
     "output_type": "execute_result"
    }
   ],
   "source": [
    "np.full((3,5), 3) # Sadece 3lerden oluşan ve bizim verdiğimiz boyut bilgisiyle oluşan array"
   ]
  },
  {
   "cell_type": "code",
   "execution_count": 28,
   "id": "2aadac3f-91a0-4493-bc21-91a602cca5e3",
   "metadata": {},
   "outputs": [
    {
     "data": {
      "text/plain": [
       "array([ 0,  3,  6,  9, 12, 15, 18, 21, 24, 27, 30])"
      ]
     },
     "execution_count": 28,
     "metadata": {},
     "output_type": "execute_result"
    }
   ],
   "source": [
    "np.arange(0,31,3) # 0'dan 31'e kadar 3er 3er artacak bir dizi oluşturmak \n",
    "                  # arange fonksiyonunu çok sık kullanacağız."
   ]
  },
  {
   "cell_type": "code",
   "execution_count": 29,
   "id": "1c21230d-0bf1-46d6-bd39-ad64549186b0",
   "metadata": {},
   "outputs": [
    {
     "data": {
      "text/plain": [
       "array([0.        , 0.11111111, 0.22222222, 0.33333333, 0.44444444,\n",
       "       0.55555556, 0.66666667, 0.77777778, 0.88888889, 1.        ])"
      ]
     },
     "execution_count": 29,
     "metadata": {},
     "output_type": "execute_result"
    }
   ],
   "source": [
    "np.linspace(0, 1, 10) # O ile 1 arasında 10 tane değer oluştur"
   ]
  },
  {
   "cell_type": "code",
   "execution_count": 30,
   "id": "c2f185af-eae4-4f61-9cb9-7458a8631a2f",
   "metadata": {},
   "outputs": [
    {
     "data": {
      "text/plain": [
       "array([[ 7.25146931,  6.8703473 ,  3.94723798,  4.42124934],\n",
       "       [18.91699769, 12.77242545, 12.43752782, 20.54370614],\n",
       "       [15.51037639, 12.84345899,  9.57200393, 15.94204809]])"
      ]
     },
     "execution_count": 30,
     "metadata": {},
     "output_type": "execute_result"
    }
   ],
   "source": [
    "np.random.normal(10, 4, (3,4)) # Ortalaması 10, Standart sapması 4 olan 2 boyutlu (3e4) random array oluştur.\n",
    "                               # random.normal fonksiyonunu çok sık kullanacağız."
   ]
  },
  {
   "cell_type": "markdown",
   "id": "8f906197-3a2a-42f9-9dec-10bdccd68f89",
   "metadata": {},
   "source": [
    "- Tek boyutlu array'ın karşılığı **Vektör** dür.\n",
    "- İki boyutlu array'ın karşılığı **Matris** dir."
   ]
  },
  {
   "cell_type": "code",
   "execution_count": 31,
   "id": "af00e164-e7f5-49ab-bcad-c16dc799ba63",
   "metadata": {},
   "outputs": [
    {
     "data": {
      "text/plain": [
       "array([[7, 1, 5],\n",
       "       [1, 0, 1],\n",
       "       [8, 1, 3]])"
      ]
     },
     "execution_count": 31,
     "metadata": {},
     "output_type": "execute_result"
    }
   ],
   "source": [
    "np.random.randint(0, 10, (3,3)) # Dağılımla ilgilenmiyorum, integer değerlerden rastgele oluşmuş bir array\n",
    "                                # O'dan 10'a kadar 3e3lük bir random matris oluştur.\n",
    "                                # random.randint fonksiyonunu çok sık kullanacağız."
   ]
  }
 ],
 "metadata": {
  "kernelspec": {
   "display_name": "Python 3 (ipykernel)",
   "language": "python",
   "name": "python3"
  },
  "language_info": {
   "codemirror_mode": {
    "name": "ipython",
    "version": 3
   },
   "file_extension": ".py",
   "mimetype": "text/x-python",
   "name": "python",
   "nbconvert_exporter": "python",
   "pygments_lexer": "ipython3",
   "version": "3.11.7"
  }
 },
 "nbformat": 4,
 "nbformat_minor": 5
}
